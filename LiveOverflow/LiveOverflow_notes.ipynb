{
 "cells": [
  {
   "cell_type": "markdown",
   "metadata": {},
   "source": [
    "# Notes on Binary Hacking\n",
    "### Source: LiveOverflow youtube\n",
    "### https://www.youtube.com/channel/UClcE-kVhqyiHCcjYwcpfj9w"
   ]
  },
  {
   "cell_type": "markdown",
   "metadata": {},
   "source": [
    "## Usefull VIM commands:\n",
    "\n",
    ":w --> save file <br>\n",
    ":q --> exit file <br>\n",
    ":wq --> save and exit <br>\n",
    ":syntax on --> syntax highlighting <br>\n",
    ":set number --> show line numbers <br>\n",
    ":set expandtab shiftwidth=4 softtabstop=4 --> tab gets replaced by 4 spaces <br>\n",
    ":!command = execute command like when you would be in a terminal. e.g. \":!python matrix.py\" <br>\n",
    "<br>\n",
    "vim -O matrix.c matrix.py --> opens vim with 2 horizontal sub windows to show both files a the same time <br>\n",
    "ctrl + w --> switching between the two windows <br>\n"
   ]
  },
  {
   "cell_type": "markdown",
   "metadata": {},
   "source": [
    "## 2. Writing a simple Program in C - bin 0x02\n",
    "- when executing a program (e.g. compiled c file) you put a ./ in front\n",
    "- when executing a terminal command the ./ is not required\n",
    "- the reason is that the terminal will look at all places listed in the PATH variable which includes e.g. /usr/bin\n",
    "- for executing the program without specifying the path simply add it the the path variable by \"export PATH=$PATH:/home/pathtoprogram\"\n",
    "\n"
   ]
  },
  {
   "cell_type": "markdown",
   "metadata": {},
   "source": [
    "#### First C-program  \n",
    "***matrix.c*** <br>\n",
    "    #include <stdio.h>\n",
    "    \n",
    "    int main(int argc, char *argv[]){  \n",
    "        printf(\"Knock, knock, Neo \\n\");\n",
    "        return 0;\n",
    "    }\n",
    "<br>\n",
    "argc and argv are used to parse an input to the program just like \"./myprogram argument1\"\n",
    "argc = argument count <br>\n",
    "argv = argument vector <br>\n",
    "<br>\n",
    "The program gets compiled via: gcc matrix.c -o matrix -Wall\n",
    "\"-o\" defines the name of the compiled output file <br>\n",
    "\"-Wall\" sets the flag to output all warnings <br>\n",
    "\"return 0\" the program exits without errors <br>"
   ]
  },
  {
   "cell_type": "markdown",
   "metadata": {},
   "source": [
    "#### Some small extensions to matrix.c\n",
    "***matrix.c*** <br>\n",
    "    #include <stdio.h>\n",
    "    \n",
    "    int main(int argc, char *argv[]){  \n",
    "        if(argc==2){\n",
    "            printf(\"Knock, knock, %s \\n\", argv[1]);\n",
    "            }\n",
    "        else{\n",
    "            fprintf(stderr, \"Usage: %s <name>\\n\", argv[0]);\n",
    "            return 1;\n",
    "        }\n",
    "            return 0;\n",
    "    }\n",
    "\n",
    "<br>\n",
    "the first argument of argv is the program name itself, if we give more than one additional input the error is printed and a 1 is returned to indicate an error. <br>\n",
    "with \"echo $?\" the exit code of the last program run can be displayed\n"
   ]
  },
  {
   "cell_type": "markdown",
   "metadata": {},
   "source": [
    "## 3. Introduction to programming in Python - bin 0x03\n",
    "\n",
    "In contrast to C which uses a compiler to translate code into an executable binary, Python is an interpreted language. In simple terms, someone wrote a program called python in C which opens the interactive shell with all kinds of functions. If python is called with an argument e.g. python myPythonFile.py, it executes the file. <br>\n",
    "***matrix.py*** <br>\n",
    "\n",
    "    import sys\n",
    "    print(sys.argv)\n",
    "python matrix.py abc \"cde\" fgh outputs ['matrix.py', 'abc', 'cde', 'fgh']\n",
    "\n",
    "now lets write our c-program in python3 <br>\n",
    "\n",
    "***matrix.py*** <br>\n",
    "\n",
    "    import sys\n",
    "    \n",
    "    if len(sys.argv) == 2:\n",
    "        print(\"Knock, knock, {0}\".format(sys.argv[1]))\n",
    "    else:\n",
    "        sys.stderr.write(\"Usage: {0} <name>\\n\".format(sys.argv[0]))\n",
    "\n",
    "Executing the program requires \"python matrix.py\", to get rid of the python command, a shebang command can be used. <br>\n",
    "***matrix.py*** <br>\n",
    "    \n",
    "    #!/usr/bin/python3\n",
    "    import sys\n",
    "    \n",
    "    if len(sys.argv) == 2:\n",
    "        print(\"Knock, knock, {0}\".format(sys.argv[1]))\n",
    "    else:\n",
    "        sys.stderr.write(\"Usage: {0} <name>\\n\".format(sys.argv[0]))\n",
    "        \n",
    "Additionally the file has to get the executable flag such that it is not interpreted as a regular text file which is done by chmod +x matrix.py\n"
   ]
  },
  {
   "cell_type": "markdown",
   "metadata": {},
   "source": [
    "## 4. How a CPU works and Introduction to Assembler - bin 0x04\n"
   ]
  },
  {
   "cell_type": "markdown",
   "metadata": {},
   "source": [
    "- assembly has 8 - 32 global variables of fixed size called registers\n",
    "- fixed size means that on a 32 bit machine those registers have 32 bits.\n",
    "- There are special registers. The most important is the \"Program Counter\" also called instruction pointer, RIP or EIP which tells the CPU which instruction is executed next\n",
    "- Every time an instruction is executed the program counter is incremented\n",
    "- virtually all computation is expressed in terms of simple operations on registers\n",
    "- what doesn't fit in registers lives in memory\n",
    "- memory is accessed by loading and storing at addresses or push and pop operations on a stack\n",
    "- control flow is done via GOTOs, jumps, branches or calls. Those calls are altering the program counter directly\n",
    "- The CPU has the fastest access to registers, followed by the cache and the slowest memory is the RAM.\n",
    "- some functions additionally to manipulating a register will also set flags e.g. the zeroflag if a result was zero\n",
    "<br>\n",
    "#### Assembly example for hello world\n",
    "<pre>\n",
    "   0x0000000000400526   <+0>:\t push   %rbp \n",
    "   0x0000000000400527   <+1>:\t mov    %rsp,%rbp \n",
    "   0x000000000040052a   <+4>:\t mov    \\$0x4005c4,%edi\n",
    "   0x000000000040052f   <+9>:\t mov    \\$0x0,%eax\n",
    "   0x0000000000400534   <+14>:\tcallq  \\$0x400400 <printf@plt> \n",
    "   0x0000000000400539   <+19>:\tmov    \\$0x0,%eax \n",
    "   0x000000000040053e   <+24>:\tpop    %rbp \n",
    "   0x000000000040053f   <+25>:\tretq \n",
    "\n",
    "The memory address is displayed at the left side, followed by the command and its arguments <br>\n",
    "practice at microcurruption.com\n"
   ]
  },
  {
   "cell_type": "markdown",
   "metadata": {},
   "source": [
    "## 05. Reversing and Cracking first simple Program - bin 0x05"
   ]
  },
  {
   "cell_type": "markdown",
   "metadata": {},
   "source": [
    "***crackme.c***\n",
    "    #include <string.h>\n",
    "    #include <stdio.h>\n",
    "\n",
    "    int main(int argc, char *argv[]){\n",
    "        if(argc==2){\n",
    "            printf(\"Checking the LicenseKey: %s\\n\", argv[1]);\n",
    "            if(strcmp(argv[1], \"licence-key-1337\")==0){\n",
    "                printf(\"Well done\");\n",
    "            }\n",
    "            else{\n",
    "                printf(\"Zonk!!! \\n\");\n",
    "            }  \n",
    "        }\n",
    "        else{\n",
    "            printf(\"Usage: <key> \\n\");\n",
    "        }\n",
    "\n",
    "    }"
   ]
  },
  {
   "cell_type": "markdown",
   "metadata": {},
   "source": [
    "***Compiling the program*** <br>\n",
    "\n",
    "    gcc -o crackme crackme.c\n",
    "\n",
    "***Testing the program*** <br>\n",
    "\n",
    "    ./crackme\n",
    "    Usage: <key>\n",
    "\n",
    "    ./crackme alsjdf\n",
    "    Checking the LicenseKey: alsjdf\n",
    "    Zonk!!! \n",
    "\n",
    "***disassembling the program*** <br>\n",
    "\n",
    "    gdb crackme\n",
    "    (gdb) set disassembly-flavor intel\n",
    "    (gdb) disassemble main\n",
    "   \n",
    "<pre>\n",
    "   0x00000000004005b6 <+0>:\t push   rbp\n",
    "   0x00000000004005b7 <+1>:\t mov    rbp,rsp\n",
    "   0x00000000004005ba <+4>:\t sub    rsp,0x10\n",
    "   0x00000000004005be <+8>:\t mov    DWORD PTR [rbp-0x4],edi\n",
    "   0x00000000004005c1 <+11>:\tmov    QWORD PTR [rbp-0x10],rsi\n",
    "   0x00000000004005c5 <+15>:\tcmp    DWORD PTR [rbp-0x4],0x2\n",
    "   0x00000000004005c9 <+19>:\tjne    0x400621 <main+107>\n",
    "   0x00000000004005cb <+21>:\tmov    rax,QWORD PTR [rbp-0x10]\n",
    "   0x00000000004005cf <+25>:\tadd    rax,0x8\n",
    "   0x00000000004005d3 <+29>:\tmov    rax,QWORD PTR [rax]\n",
    "   0x00000000004005d6 <+32>:\tmov    rsi,rax\n",
    "   0x00000000004005d9 <+35>:\tmov    edi,0x4006c4\n",
    "   0x00000000004005de <+40>:\tmov    eax,0x0\n",
    "   0x00000000004005e3 <+45>:\tcall   0x400480 <printf@plt>\n",
    "   0x00000000004005e8 <+50>:\tmov    rax,QWORD PTR [rbp-0x10]\n",
    "   0x00000000004005ec <+54>:\tadd    rax,0x8\n",
    "   0x00000000004005f0 <+58>:\tmov    rax,QWORD PTR [rax]\n",
    "   0x00000000004005f3 <+61>:\tmov    esi,0x4006e1\n",
    "   0x00000000004005f8 <+66>:\tmov    rdi,rax\n",
    "   0x00000000004005fb <+69>:\tcall   0x4004a0 <strcmp@plt>\n",
    "   0x0000000000400600 <+74>:\ttest   eax,eax\n",
    "   0x0000000000400602 <+76>:\tjne    0x400615 <main+95>\n",
    "   0x0000000000400604 <+78>:\tmov    edi,0x4006f2\n",
    "   0x0000000000400609 <+83>:\tmov    eax,0x0\n",
    "   0x000000000040060e <+88>:\tcall   0x400480 <printf@plt>\n",
    "   0x0000000000400613 <+93>:\tjmp    0x40062b <main+117>\n",
    "   0x0000000000400615 <+95>:\tmov    edi,0x4006fc\n",
    "   0x000000000040061a <+100>:   call   0x400470 <puts@plt>\n",
    "   0x000000000040061f <+105>:   jmp    0x40062b <main+117>\n",
    "   0x0000000000400621 <+107>:   mov    edi,0x400705\n",
    "   0x0000000000400626 <+112>:   call   0x400470 <puts@plt>\n",
    "   0x000000000040062b <+117>:   mov    eax,0x0\n",
    "   0x0000000000400630 <+122>:   leave  \n",
    "   0x0000000000400631 <+123>:   ret\n",
    "    "
   ]
  },
  {
   "cell_type": "markdown",
   "metadata": {},
   "source": [
    "First try to get an overview of the control flow.\n",
    "<pre>\n",
    " <+15>:\tcmp 0x2\n",
    " <+19>:\tjne <main+107>\n",
    "\n",
    " <+45>:\tcall printf\n",
    " <+69>:\tcall strcmp\n",
    " <+74>:\ttest\n",
    " <+76>:\tjne <main+95>\n",
    "\n",
    " <+88>:\tcall printf\n",
    " <+93>:\tjmp\n",
    "\n",
    " <+100>:  call puts\n",
    " <+105>:  jmp \n",
    "\n",
    " <+112>:  call puts\n",
    " <+117>: exit program\n",
    "\n",
    "At the start (main+15) we got a compare with the number 2 followed by a \"jne\"/jump not equal.\n",
    "Depending on the result we jump to 400621/<main+107> which puts something in edi, calls \"puts\" which is just a print command and exits\n",
    "<pre>\n",
    "    <+15>:\tcmp 0x2\n",
    "|-- <+19>:\tjne main+107\n",
    "|  \n",
    "|   <+45>:\tcall printf\n",
    "|   <+69>:\tcall strcmp\n",
    "|   <+74>:\ttest\n",
    "|   <+76>:\tjne main+95\n",
    "|\n",
    "|   <+88>:\tcall printf\n",
    "|   <+93>:\tjmp\n",
    "|\n",
    "|   <+100>:  call puts\n",
    "|   <+105>:  jmp \n",
    "|\n",
    "|--> <+112>:  call puts\n",
    "     <+117>: exit program\n",
    "\n",
    "If the compare gets a 2 we get a printf at main+45, followed by a strcmp at main+69.\n",
    "Depending on the result of strcmp we got a \"jne\" again at line main+76 which either jumps to main+95 (another puts/print) or proceeds to main+88\n",
    "\n",
    "<pre>\n",
    "    <+15>:\tcmp 0x2\n",
    "|-- <+19>:\tjne main+107\n",
    "|   |\n",
    "|   <+45>:\tcall printf\n",
    "|   <+69>:\tcall strcmp\n",
    "|   <+74>:\ttest\n",
    "||--<+76>:\tjne main+95\n",
    "||  |\n",
    "||  <+88>:\tcall printf\n",
    "||  <+93>:\tjmp main+117 / exit\n",
    "||\n",
    "||-><+100>:  call puts\n",
    "|   <+105>:  jmp main+117 / exit\n",
    "|\n",
    "|--> <+112>:  call puts\n",
    "     <+117>: exit program\n"
   ]
  },
  {
   "cell_type": "markdown",
   "metadata": {},
   "source": [
    "<pre>\n",
    "(gdb) break *main --> sets a breakpoint right at the start\n",
    "(gdb) run\n",
    "(gdb) info registers --> shows the value of all registers including the position of the instruction \n",
    "pointer\n",
    "(gdb) si --> steps one instruction / instruction pointer as a different value now\n",
    "(gdb) ni --> step one instruction in main / not just one instruction in a called function\n",
    "repeating ni results in \"Usage: < key >\" which is understandable since we did not provide an input and the compare with 2 is \"not equal\".\n",
    "\n",
    "lets retry with: \n",
    "(gdb) run licence-key-1447\n",
    "\n",
    "repeat (gdb) ni\n",
    "output: Checking the LicenseKey: licence-key-1447\n",
    "\n",
    "repeat (gdb) ni\n",
    "0x0000000000400602 <+76>\n",
    "(gdb) ni\n",
    "0x0000000000400615 <+95>\n",
    "so we jumped over lines <+88> and <+93>\n",
    "\n",
    "set a breakpoint right before this comparison and jump\n",
    "(gdb) break *0x0000000000400600\n",
    "(gdb) run licence-key-1447\n",
    "(gdb) continue --> runs until our second breakpoint\n",
    "\n",
    "Now we are at: 0x0000000000400600 <+74>:\ttest   eax,eax\n",
    "eax (first 32 bit of rax) is not 0 which was the result of the string comparison.\n",
    "(gdb) set $eax=0 --> sets this comparison flag to zero\n",
    "repeat (gdb) ni --> \"well done\"\n",
    "\n",
    "Exercises can be found on Crackmes.de"
   ]
  },
  {
   "cell_type": "markdown",
   "metadata": {},
   "source": [
    "## 06.  Simple Tools and Techniques for Reversing a binary - bin 0x06"
   ]
  },
  {
   "cell_type": "markdown",
   "metadata": {},
   "source": [
    "- hexdump -C crackme --> prints the hex code of the file. This even includes the string of the license key\n",
    "- strings crackme --> prints all the strings which can be read\n",
    "- objdump --> outputs far more information about a file\n",
    "\n",
    "- linux provides various functions so called syscalls e.g. write which writes output on the console.\n",
    "- - Used functions can be checked with strace and ltrace.\n",
    "- - ltrace gives us an output: strcmp(\"alsdjflsd\", \"licence-key-1337\") which includes the key!\n",
    "- affortable decompiler and some reverse engineering tools are provided by Hopper. A freeware alternative is radare2"
   ]
  },
  {
   "cell_type": "markdown",
   "metadata": {},
   "source": [
    "## 07. Uncrackable Programs? Key validation with Algorithm and creating a Keygen - bin 0x07"
   ]
  },
  {
   "cell_type": "markdown",
   "metadata": {
    "collapsed": true
   },
   "source": [
    "Since we can read strings like License Keys out of the binary lets try to use the cross sum of the asci values of the key letters.\n",
    "\n",
    "***crackme_v2.c***\n",
    "    #include <string.h>\n",
    "    #include <stdio.h>\n",
    "\n",
    "    int main(int argc, char *argv[]){\n",
    "        if(argc==2){\n",
    "            printf(\"Checking the LicenseKey: %s\\n\", argv[1]);\n",
    "            int sum = 0;\n",
    "            for(int i=0; i < strlen(argv[1]); i++){\n",
    "                sum += (int)argv[1][i];\n",
    "            }\n",
    "            \n",
    "            if(sum == 1348){\n",
    "                printf(\"Well done \\n\");\n",
    "            }\n",
    "            else{\n",
    "                printf(\"Zonk!!! \\n\");\n",
    "            }  \n",
    "        }\n",
    "        else{\n",
    "            printf(\"Usage: <key> \\n\");\n",
    "        }\n",
    "\n",
    "    }\n",
    "\n",
    "gcc -o crackme_v2 crackme_v2.c <br>\n",
    "radare2 crackme_v2 <br>\n",
    "\n",
    "***radare commands***\n",
    "\n",
    "    aaa = aa --> analyze all (e.g. it figures out where the main function is)\n",
    "    s main --> seeks the main function (can also be used to seek a memory address)\n",
    "    \"Esc\"-button --> go one step back\n",
    "    pdf --> show disassembly\n",
    "    v --> enter visual mode\n",
    "    VV --> show flow graph of the program\n",
    "    ood abcdefg --> open program in debug mode with function argument abcdefg\n",
    "    dc --> execute the program\n",
    "    db 0x00400656 --> set breakpoint at 0x00400656\n",
    "    ds --> step one instruction\n",
    "    quit --> leave radare2\n",
    "    dr --> display registers\n",
    "    dr rip=0x00400658 --> sets rip to 0x00400658\n",
    "    afvn local_2_4 i --> renames local_2_4 variable to i\n",
    "\n",
    "***Way to bypass the input:***\n",
    "\n",
    "    radare2 crackme_v2\n",
    "    aaa\n",
    "    s sym.main\n",
    "    pdf\n",
    "    look for the decision where the jump into the wrong or right is executed. (0x00400656)\n",
    "    ood alsdjflsjdf\n",
    "    dc\n",
    "    db 0x00400656\n",
    "    ood lfjsldfjsf\n",
    "    dc\n",
    "    dr\n",
    "    dr rip=0x00400658 --> set the instruction pointer on the print statement \"printf(\"Well done \\n\");\"\n",
    "    dc\n",
    "    \n"
   ]
  },
  {
   "cell_type": "code",
   "execution_count": 21,
   "metadata": {},
   "outputs": [
    {
     "data": {
      "image/png": "[encoded data removed]",
      "text/plain": [
       "<IPython.core.display.Image object>"
      ]
     },
     "execution_count": 21,
     "metadata": {
      "image/png": {
       "height": 346,
       "width": 395
      }
     },
     "output_type": "execute_result"
    }
   ],
   "source": [
    "from IPython.display import Image\n",
    "Image(\"imgs/radare_for_loop.png\", retina=True)"
   ]
  },
  {
   "cell_type": "markdown",
   "metadata": {},
   "source": [
    "***The image above shows a for loop in radare***\n",
    "\n",
    "in the bottom left \"add dword [var_14h], 1\" adds a 1 to our counter (i++) with var_14h being our \"i\"\n",
    "\n",
    "the \"cmp rbx, rax\" in the top block is our condition which either loops (going left) or leaves depending on the strlen call above, rbx and rax. \n",
    "\n",
    "After understanding that the left block iterates over the input and sums up the ASCI values of the string, followed by a comparison of this sum with 0x544 we can create a keygen."
   ]
  },
  {
   "cell_type": "code",
   "execution_count": null,
   "metadata": {},
   "outputs": [],
   "source": [
    "def check_key(key, printFlag):\n",
    "    char_sum = 0\n",
    "    for c in key:\n",
    "        char_sum += ord(c)\n",
    "        \n",
    "    if printFlag:\n",
    "        print(key, char_sum)\n",
    "    return char_sum\n",
    "\n",
    "check_key('AAA', 1)\n",
    "check_key('AAB', 1)\n",
    "check_key('BAA', 1)\n",
    "\n",
    "import random\n",
    "\n",
    "def keygen(num_keys):\n",
    "    i = 1\n",
    "    key = \"\"\n",
    "    while True:\n",
    "        key += random.choice('abcdefghijklmnopqrstuvwxyzABCDEFGHIJKLMNOPQRSTUVWXYZ1234567890-_')\n",
    "        s = check_key(key, 0)\n",
    "        if s > int(0x544):\n",
    "            key = \"\"\n",
    "        elif s == int(0x544):\n",
    "            print(key)\n",
    "            i += 1\n",
    "        \n",
    "        if(i>num_keys):\n",
    "            break\n",
    "\n",
    "keygen(5)"
   ]
  },
  {
   "cell_type": "code",
   "execution_count": null,
   "metadata": {},
   "outputs": [],
   "source": [
    "import subprocess\n",
    "print(subprocess.check_output([\"./crackme_v2\", \"L1TU9-O5yxpLfpeL\"]))\n"
   ]
  },
  {
   "cell_type": "markdown",
   "metadata": {},
   "source": [
    "### 08. Uncrackable Program? Finding a Parser Differential in loading ELF - bin 0x08"
   ]
  },
  {
   "cell_type": "markdown",
   "metadata": {},
   "source": [
    "since gdb or radare execute the binary which contains more than just the source code, it might be possibly to change part of the executable such that linux can still execute it but gdb and radare throw and error due to a perser differential."
   ]
  },
  {
   "cell_type": "code",
   "execution_count": null,
   "metadata": {},
   "outputs": [],
   "source": [
    "import random\n",
    "import os\n",
    "def flip_byte(in_bytes):\n",
    "    i = random.randint(0, len(in_bytes))\n",
    "    c = str(random.randint(0,255))\n",
    "    return in_bytes[:i] + c + in_bytes[i+1:]\n",
    "\n",
    "print(flip_byte('AAAAAAAAAAA'))\n",
    "print(flip_byte('AAAAAAAAAAA'))\n",
    "print(flip_byte('AAAAAAAAAAA'))\n",
    "print(flip_byte('AAAAAAAAAAA'))\n",
    "print(flip_byte('AAAAAAAAAAA'))\n"
   ]
  },
  {
   "cell_type": "code",
   "execution_count": null,
   "metadata": {},
   "outputs": [],
   "source": [
    "os.system(\"cp crackme_v2 crackme_v2_fuzz\")"
   ]
  },
  {
   "cell_type": "code",
   "execution_count": null,
   "metadata": {},
   "outputs": [],
   "source": [
    "import random\n",
    "import os\n",
    "\n",
    "def flip_byte(in_bytes):\n",
    "    i = random.randint(0, len(in_bytes))\n",
    "    # in python3 there is no implicit type conversion between str and bytes str() has to be replaced with bytes()\n",
    "    c = bytes(random.randint(0,255))\n",
    "    return in_bytes[:i] + c + in_bytes[i+1:]\n",
    "\n",
    "os.system(\"cp crackme_v2 crackme_v2_fuzz\")\n",
    "def copy_binary():\n",
    "    os.system(\"cp crackme_v2 crackme_v2_fuzz\")\n",
    "    with open('crackme_v2', 'rb') as orig_f, open('crackme_v2_fuzz', 'wb') as new_f:\n",
    "        new_f.write( flip_byte(orig_f.read()) )\n",
    "\n",
    "def compare(fn1, fn2):\n",
    "    with open(fn1) as f1, open(fn2) as f2:\n",
    "        return f1.read() == f2.read()\n",
    "\n",
    "os.system(\"(./crackme_v2_fuzz ; ./crackme_v2_fuzz L1TU9-O5yxpLfpeL) > orig_output\")\n",
    "def check_output():\n",
    "    os.system(\"(./crackme_v2_fuzz ; ./crackme_v2_fuzz L1TU9-O5yxpLfpeL) > fuzz_output\")\n",
    "    return compare(\"orig_output\", \"fuzz_output\")\n",
    "\n",
    "os.system(\"echo disassemble main | gdb crackme_v2_fuzz > orig_gdb\")\n",
    "def check_gdb():\n",
    "    os.system(\"echo disassemble main | gdb crackme_v2_fuzz > fuzz_gdb\")\n",
    "    return compare(\"orig_gdb\", \"fuzz_gdb\")\n",
    "\n",
    "\n",
    "os.system('echo -e \"aaa\\ns sym.main\\npdf\" | radare2 crackme_v2_fuzz > orig_radare')\n",
    "def check_radare2():\n",
    "    os.system(\"echo -e 'aaa\\n s sym.main \\n pdf'\"\" | radare2 crackme_v2_fuzz > fuzz_radare \")\n",
    "    return compare(\"orig_radare\", \"fuzz_radare\")\n",
    "\n",
    "\n",
    "while True:\n",
    "    copy_binary()\n",
    "    if check_output() and not check_gdb() and not check_radare2():\n",
    "\n",
    "        print(\"Found possible binary\")\n",
    "        os.system(\"tail fuzz_gdb\")\n",
    "        os.system(\"tail fuzz_radare\")\n",
    "                  "
   ]
  },
  {
   "cell_type": "markdown",
   "metadata": {},
   "source": [
    "### 09. Syscalls, Kernel vs. user Mode and linux Kernel Source Code - bin 0x09"
   ]
  },
  {
   "cell_type": "markdown",
   "metadata": {},
   "source": [
    "The system call is the fundamental interface between an application and the Linux kernel\n",
    "\n",
    "***write_test.c***\n",
    "\n",
    "    void main(){\n",
    "        write(1, \"HACK\\n\", 5);\n",
    "    }\n",
    "   \n",
    "   \n",
    "    gcc -o write_test write_test.c\n",
    "    radare2 -d ./write_test\n",
    "    aaa\n",
    "    s sym.main\n",
    "    pdf\n",
    "    look for the memory address of \"call sym.imp.write\"\n",
    "    e.g. 0x0040053e      e8bdfeffff     call sym.imp.write\n",
    "    db 0x0040053e\n",
    "    dc\n",
    "    V!\n",
    "    with s you can step through the write function\n",
    "    \n",
    "- in the end a 1 is written into eax and a syscall is executed\n",
    "- Depending on which number is written into eax the processor jumps to a different memory location. On the different memory locations different functions are located. \n",
    "- A Linux Syscall table shows which eax number corresponds to which function. e.g. 1=write\n",
    "- A syscall is a level 0 privilege level procedure (Kernel level). In user mode you can not directly access level 0 but instead have to go through something like a syscall.\n",
    "- those syscalls often invoke pointers to some arguments like a string which has to be printed, the memory locations of those pointers for different programs often are in the same memory space. This happens because the memory locations are not the physical one on the RAM but instead virtual memory which is managed by the memory management unit (MMU) and distributed by the MMU to to RAM such that the programmer does not have to care about which memory is in use or not. "
   ]
  },
  {
   "cell_type": "markdown",
   "metadata": {},
   "source": [
    "### 0A. The deal with numbers: hexadecimal, binary and decimals - bin 0x0A"
   ]
  },
  {
   "cell_type": "markdown",
   "metadata": {},
   "source": [
    "- since our CPUs are clusters of transistors which can be on or off, 0/1 are the obvious choice for digits in the machine language 0/1 = bit\n",
    "- IBMs System 360 is the historical reason for 8 bits instead of any other number being 1 byte = 1 Oktett\n",
    "- 4 bits are 1 nibble and 1 nibble can be represented by 1 hex digit"
   ]
  },
  {
   "cell_type": "code",
   "execution_count": 8,
   "metadata": {},
   "outputs": [
    {
     "name": "stdout",
     "output_type": "stream",
     "text": [
      "15\n",
      "255\n",
      "00000000 |   0 |  0\n",
      "00000010 |   2 |  2\n",
      "01010101 |  85 | 55\n",
      "11110010 | 242 | f2\n",
      "11111111 | 255 | ff\n"
     ]
    }
   ],
   "source": [
    "print(int('1111', 2)) # what is 1111 with a base of 2 in decimal\n",
    "print(int('11111111', 2))\n",
    "\n",
    "for i in ['00000000', '00000010', '01010101', '11110010', '11111111']:\n",
    "    print(\"{0} | {1:3} | {2:2x}\".format(i, int(i,2), int(i,2)))"
   ]
  },
  {
   "cell_type": "code",
   "execution_count": 10,
   "metadata": {},
   "outputs": [
    {
     "name": "stdout",
     "output_type": "stream",
     "text": [
      "0b1111011\n",
      "0x7b\n",
      "123\n"
     ]
    }
   ],
   "source": [
    "print( bin(123) )\n",
    "print( hex(123) )\n",
    "print( int('0b1111011', 2) )"
   ]
  },
  {
   "cell_type": "code",
   "execution_count": 20,
   "metadata": {},
   "outputs": [
    {
     "name": "stdout",
     "output_type": "stream",
     "text": [
      "(1145258561,)\n",
      "0x44434241\n",
      "b'EbE\\x03'\n"
     ]
    }
   ],
   "source": [
    "import struct\n",
    "print( struct.unpack(\"I\", bytes(\"ABCD\", 'utf-8')) ) # I=integer\n",
    "print( hex(struct.unpack(\"I\", bytes(\"ABCD\", 'utf-8'))[0]) )\n",
    "print( struct.pack(\"I\", 0x3456245) ) # 41 = 'A' is at the end because of little endian"
   ]
  },
  {
   "cell_type": "markdown",
   "metadata": {},
   "source": [
    "***Negative numbers***\n",
    "\n",
    "    0000 = 0\n",
    "    0001 = 1\n",
    "    0010 = 2\n",
    "    0011 = 3\n",
    "    0100 = 4\n",
    "    0101 = 5\n",
    "    0110 = 6\n",
    "    0111 = 7\n",
    "    1000 = -8\n",
    "    1001 = -7\n",
    "    1010 = -6\n",
    "    1011 = -5\n",
    "    1100 = -4\n",
    "    1101 = -3\n",
    "    1110 = -2\n",
    "    1111 = -1\n",
    "\n",
    "- Two's complement, invert the bits and add 1\n",
    "- 0011 = 3\n",
    "- inverting --> 1100\n",
    "- add 1 --> 1101 = -3"
   ]
  },
  {
   "cell_type": "markdown",
   "metadata": {},
   "source": [
    "    bit = 0/1\n",
    "    nibble = 1010 = 4 bits\n",
    "    byte = 1010 0000 = 2 nibbles = 2 hex numbers 0xA0\n",
    "    a word on 32 bit = 32 bits = 8 hex numbers\n",
    "    a word on 64 bit machines = 64 bits = double word on 32 bit = 16 hex numbers = 8 bytes"
   ]
  },
  {
   "cell_type": "markdown",
   "metadata": {},
   "source": [
    "### 0B. Smashing the Stack for Fun and Profit- setuid, ssh and exploit.education - bin 0x0B"
   ]
  },
  {
   "cell_type": "markdown",
   "metadata": {},
   "source": [
    "http://phrack.org/issues/49/14.html\n",
    "https://exploit-exercises.injecti0n.org/"
   ]
  },
  {
   "cell_type": "code",
   "execution_count": null,
   "metadata": {
    "collapsed": true
   },
   "outputs": [],
   "source": []
  }
 ],
 "metadata": {
  "kernelspec": {
   "display_name": "Python 3",
   "language": "python",
   "name": "python3"
  },
  "language_info": {
   "codemirror_mode": {
    "name": "ipython",
    "version": 3
   },
   "file_extension": ".py",
   "mimetype": "text/x-python",
   "name": "python",
   "nbconvert_exporter": "python",
   "pygments_lexer": "ipython3",
   "version": "3.6.3"
  }
 },
 "nbformat": 4,
 "nbformat_minor": 2
}
